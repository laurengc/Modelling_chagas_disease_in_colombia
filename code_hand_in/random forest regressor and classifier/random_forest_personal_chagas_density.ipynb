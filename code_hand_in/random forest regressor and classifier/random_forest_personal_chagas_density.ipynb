{
 "cells": [
  {
   "cell_type": "code",
   "execution_count": 177,
   "metadata": {},
   "outputs": [
    {
     "name": "stdout",
     "output_type": "stream",
     "text": [
      "Requirement already satisfied: joblib in /Users/laurengomezcullen/opt/anaconda3/envs/python_Env/lib/python3.8/site-packages (1.1.0)\n",
      "Note: you may need to restart the kernel to use updated packages.\n"
     ]
    }
   ],
   "source": [
    "# pip install pydot\n",
    "# pip install scikit-learn\n",
    "# pip install joblib"
   ]
  },
  {
   "cell_type": "code",
   "execution_count": 1,
   "metadata": {},
   "outputs": [],
   "source": [
    "import pandas as pd\n",
    "import numpy as np\n",
    "from sklearn.model_selection import train_test_split\n",
    "from sklearn.ensemble import RandomForestRegressor\n",
    "from sklearn.model_selection import RandomizedSearchCV, GridSearchCV\n",
    "from pprint import pprint\n",
    "from sklearn.tree import export_graphviz\n",
    "import pydot\n",
    "from matplotlib import pyplot as plt\n",
    "import joblib"
   ]
  },
  {
   "cell_type": "code",
   "execution_count": 2,
   "metadata": {},
   "outputs": [],
   "source": [
    "#assess the efficacy of the hyperparameter search\n",
    "def evaluate(model, test_features, test_labels,name):\n",
    "    predictions = model.predict(test_features)\n",
    "    np.savetxt(\"/Users/laurengomezcullen/Documents/Cambridge/Fourth/Project/final/random_forest/outputs/\" + name +\"_current_predictions_chagas_density.csv\", predictions, delimiter=\",\",  header = 'PROJECTED_CASES')\n",
    "    errors = abs(predictions - test_labels)\n",
    "    mae = np.mean(errors) #couldnt use mape as have zero values for many data points\n",
    "    statistics = pd.DataFrame(errors).describe()\n",
    "    plt.figure()\n",
    "    plt.scatter(test_labels,predictions)\n",
    "    # pprint(statistics)\n",
    "    # print('Model Performance')\n",
    "    # print('Average Error: {:0.4f} cases.'.format(mae))\n",
    "    \n",
    "    return mae, statistics"
   ]
  },
  {
   "cell_type": "code",
   "execution_count": 6,
   "metadata": {},
   "outputs": [
    {
     "name": "stdout",
     "output_type": "stream",
     "text": [
      "               SVI      POP_DENS  SUITABILITY_MEAN  SUITABILITY_MEDIAN  \\\n",
      "count  1122.000000   1122.000000       1122.000000         1122.000000   \n",
      "mean      0.003273    147.218108          0.486161            0.485076   \n",
      "std       0.629838    641.930166          0.204276            0.213544   \n",
      "min      -2.413090      0.058054          0.050715            0.039474   \n",
      "25%      -0.396850     18.522147          0.337110            0.339603   \n",
      "50%      -0.024184     38.747537          0.508514            0.508180   \n",
      "75%       0.435019     82.092719          0.636701            0.639794   \n",
      "max       2.317944  12498.025239          0.965954            0.989610   \n",
      "\n",
      "       TOTAL_CASES  CASES_DENSITY  \n",
      "count  1122.000000    1122.000000  \n",
      "mean      3.353832       0.000250  \n",
      "std      16.578431       0.001042  \n",
      "min       0.000000       0.000000  \n",
      "25%       0.000000       0.000000  \n",
      "50%       0.000000       0.000000  \n",
      "75%       1.000000       0.000061  \n",
      "max     327.000000       0.014163  \n",
      "['SVI', 'POP_DENS', 'SUITABILITY_MEAN']\n",
      "[2.10763258e-06 5.68214103e-05 0.00000000e+00 ... 0.00000000e+00\n",
      " 0.00000000e+00 2.31814178e-05]\n"
     ]
    }
   ],
   "source": [
    "#reading in data and splitting variables from labels\n",
    "features = pd.read_csv('/Users/laurengomezcullen/Documents/Cambridge/Fourth/Project/final/data/random_forest_input/colombia/rf_current_input_chagas_density.csv').iloc[:,2:]\n",
    "\n",
    "pprint(features.describe())\n",
    "\n",
    "#identify the labels, i.e. the value to predict and remove it from the total cases\n",
    "labels = np.array(features[\"CASES_DENSITY\"])\n",
    "features = features.drop(['TOTAL_CASES', 'SUITABILITY_MEDIAN', 'CASES_DENSITY'], axis = 1)\n",
    "\n",
    "# Saving feature names for later use\n",
    "feature_list = list(features.columns)\n",
    "print(feature_list)\n",
    "print(labels)\n",
    "\n",
    "#convert to numpy array\n",
    "features = np.array(features)"
   ]
  },
  {
   "cell_type": "code",
   "execution_count": 8,
   "metadata": {},
   "outputs": [
    {
     "data": {
      "text/plain": [
       "(array([1.07e+03, 3.00e+01, 7.00e+00, 6.00e+00, 2.00e+00, 2.00e+00,\n",
       "        1.00e+00, 1.00e+00, 1.00e+00, 2.00e+00]),\n",
       " array([0.        , 0.00141632, 0.00283264, 0.00424895, 0.00566527,\n",
       "        0.00708159, 0.00849791, 0.00991422, 0.01133054, 0.01274686,\n",
       "        0.01416318]),\n",
       " <BarContainer object of 10 artists>)"
      ]
     },
     "execution_count": 8,
     "metadata": {},
     "output_type": "execute_result"
    },
    {
     "data": {
      "image/png": "[encoded data removed]",
      "text/plain": [
       "<Figure size 432x288 with 1 Axes>"
      ]
     },
     "metadata": {
      "needs_background": "light"
     },
     "output_type": "display_data"
    }
   ],
   "source": [
    "#visualising the spread of data\n",
    "# labels_no_zero = labels[labels !=0]\n",
    "# min_val = min(labels_no_zero)\n",
    "# print(list(labels).count(0))\n",
    "data = labels\n",
    "# zero_bin = [0,min_val]\n",
    "# print(zero_bin)\n",
    "# rest_of_bins = list(np.arange(min_val, 0.014163,(0.014163-min_val)/10))\n",
    "# bins = zero_bin + rest_of_bins\n",
    "plt.hist(data)"
   ]
  },
  {
   "cell_type": "code",
   "execution_count": 9,
   "metadata": {},
   "outputs": [],
   "source": [
    "#split the data into training and testing\n",
    "train_features, test_features, train_labels, test_labels = train_test_split(features, labels, test_size = 0.25, random_state = 42) #remove 42 in final run but just used when testing code"
   ]
  },
  {
   "cell_type": "code",
   "execution_count": 10,
   "metadata": {},
   "outputs": [],
   "source": [
    "#write the data to a file for future analysis\n",
    "# np.savetxt('/Users/laurengomezcullen/Documents/Cambridge/Fourth/Project/final/data/random_forest_input/colombia/train_features_chagas_density.csv',train_features, delimiter=\",\", header = 'TRAIN_FEATURES')\n",
    "# np.savetxt('/Users/laurengomezcullen/Documents/Cambridge/Fourth/Project/final/data/random_forest_input/colombia/test_features_chagas_density.csv',test_features, delimiter=\",\", header = 'TEST_FEATURES')\n",
    "# np.savetxt('/Users/laurengomezcullen/Documents/Cambridge/Fourth/Project/final/data/random_forest_input/colombia/train_labels_chagas_density.csv', train_labels,delimiter=\",\", header = 'TRAIN_LABELS')\n",
    "# np.savetxt('/Users/laurengomezcullen/Documents/Cambridge/Fourth/Project/final/data/random_forest_input/colombia/test_labels_chagas_density.csv', test_labels,delimiter=\",\", header = 'TEST_LABELS')"
   ]
  },
  {
   "cell_type": "code",
   "execution_count": 11,
   "metadata": {},
   "outputs": [
    {
     "name": "stdout",
     "output_type": "stream",
     "text": [
      "Parameters currently in use:\n",
      "\n",
      "{'bootstrap': True,\n",
      " 'ccp_alpha': 0.0,\n",
      " 'criterion': 'squared_error',\n",
      " 'max_depth': None,\n",
      " 'max_features': 'auto',\n",
      " 'max_leaf_nodes': None,\n",
      " 'max_samples': None,\n",
      " 'min_impurity_decrease': 0.0,\n",
      " 'min_samples_leaf': 1,\n",
      " 'min_samples_split': 2,\n",
      " 'min_weight_fraction_leaf': 0.0,\n",
      " 'n_estimators': 100,\n",
      " 'n_jobs': None,\n",
      " 'oob_score': False,\n",
      " 'random_state': 42,\n",
      " 'verbose': 0,\n",
      " 'warm_start': False}\n"
     ]
    }
   ],
   "source": [
    "#which hyperparameters can i tune?\n",
    "rf = RandomForestRegressor(random_state = 42)\n",
    "print('Parameters currently in use:\\n')\n",
    "pprint(rf.get_params())\n"
   ]
  },
  {
   "cell_type": "code",
   "execution_count": 6,
   "metadata": {},
   "outputs": [],
   "source": [
    "#set the range of hyperparameter options to consider\n",
    "bootstrap = [True]\n",
    "# ccp_alpha = [i for i in np.linspace(start = 0, stop = 0.05, num = 50)] \n",
    "ccp_alpha = [0]\n",
    "max_features = [1,2,3]\n",
    "max_samples = [i for i in np.linspace(start = 0, stop = 0.3, num = 50)]\n",
    "\n",
    "#create the random grid \n",
    "random_grid = {'max_samples': max_samples,\n",
    "               'max_features': max_features,\n",
    "               'ccp_alpha': ccp_alpha,\n",
    "               'bootstrap': bootstrap}\n",
    "\n",
    "# pprint(random_grid)"
   ]
  },
  {
   "cell_type": "code",
   "execution_count": 95,
   "metadata": {},
   "outputs": [
    {
     "name": "stderr",
     "output_type": "stream",
     "text": [
      "/Users/laurengomezcullen/opt/anaconda3/envs/python_Env/lib/python3.8/site-packages/sklearn/model_selection/_validation.py:372: FitFailedWarning: \n",
      "3 fits failed out of a total of 300.\n",
      "The score on these train-test partitions for these parameters will be set to nan.\n",
      "If these failures are not expected, you can try to debug them by setting error_score='raise'.\n",
      "\n",
      "Below are more details about the failures:\n",
      "--------------------------------------------------------------------------------\n",
      "3 fits failed with the following error:\n",
      "Traceback (most recent call last):\n",
      "  File \"/Users/laurengomezcullen/opt/anaconda3/envs/python_Env/lib/python3.8/site-packages/sklearn/model_selection/_validation.py\", line 680, in _fit_and_score\n",
      "    estimator.fit(X_train, y_train, **fit_params)\n",
      "  File \"/Users/laurengomezcullen/opt/anaconda3/envs/python_Env/lib/python3.8/site-packages/sklearn/ensemble/_forest.py\", line 385, in fit\n",
      "    n_samples_bootstrap = _get_n_samples_bootstrap(\n",
      "  File \"/Users/laurengomezcullen/opt/anaconda3/envs/python_Env/lib/python3.8/site-packages/sklearn/ensemble/_forest.py\", line 117, in _get_n_samples_bootstrap\n",
      "    raise ValueError(msg.format(max_samples))\n",
      "ValueError: `max_samples` must be in range (0.0, 1.0] but got value 0.0\n",
      "\n",
      "  warnings.warn(some_fits_failed_message, FitFailedWarning)\n",
      "/Users/laurengomezcullen/opt/anaconda3/envs/python_Env/lib/python3.8/site-packages/sklearn/model_selection/_search.py:969: UserWarning: One or more of the test scores are non-finite: [-1.79702479e-02  6.07388725e-03 -8.65378923e-03 -1.23481591e-02\n",
      "  7.55540342e-03  3.95123244e-03  8.14241590e-03 -2.79996725e-02\n",
      "  1.87724123e-03 -4.11590374e-02 -4.99224616e-03  9.33937954e-03\n",
      "  7.57535560e-03  1.35104557e-02  2.62832155e-02  4.08736067e-06\n",
      " -4.11693081e-03  1.20907439e-02 -2.39821512e-03 -3.43492683e-02\n",
      "  2.05507743e-02 -3.77945774e-02  2.07973178e-02 -2.44204571e-02\n",
      " -2.24867676e-02 -4.14310836e-02  8.94611644e-03 -6.22932997e-02\n",
      "  2.70722484e-04  1.49544055e-02  2.66524174e-02  3.24958915e-03\n",
      " -1.26295997e-02  1.45420868e-02  9.62673679e-03 -5.95858007e-02\n",
      " -5.13394374e-02  7.17190014e-03  5.57875145e-03  9.69831616e-03\n",
      " -3.55247296e-02 -1.38796297e-02 -6.42866739e-03  7.05846886e-03\n",
      "  1.69041091e-02 -2.18547670e-02 -3.66942913e-02 -5.06511619e-02\n",
      " -1.51105523e-02 -2.91314817e-02 -1.82207956e-02  2.74275735e-03\n",
      " -1.20577915e-02             nan -1.85501092e-02 -1.76299281e-02\n",
      "  1.21061116e-02 -2.11024856e-03  3.46226684e-03 -5.54580623e-03\n",
      " -1.31151900e-02  1.01337099e-02  1.99436767e-02  6.29304760e-03\n",
      " -2.20759173e-02 -5.74273853e-03 -4.05205518e-02 -1.78261924e-02\n",
      " -2.35319917e-02 -5.72949439e-02 -2.03215730e-02  1.21493266e-02\n",
      " -4.20087242e-02 -2.96451078e-03 -2.58698618e-02 -1.45338659e-02\n",
      " -3.18849638e-02  3.46902184e-03  1.60816589e-02 -2.21517126e-02\n",
      " -7.44582991e-03  6.85528541e-03  1.65320427e-02 -2.90219139e-02\n",
      " -6.44242171e-03  2.27236634e-03  6.71427957e-03  1.59174472e-02\n",
      "  4.86833020e-03 -8.05341860e-03 -3.02050739e-02 -2.18520561e-02\n",
      " -1.12602271e-02 -3.34011417e-02 -5.26635491e-03 -1.97627327e-02\n",
      " -2.22870849e-05  1.13706557e-02 -7.46429276e-03 -5.20729961e-03]\n",
      "  warnings.warn(\n"
     ]
    },
    {
     "data": {
      "text/plain": [
       "{'max_samples': 0.1346938775510204,\n",
       " 'max_features': 1,\n",
       " 'ccp_alpha': 0,\n",
       " 'bootstrap': True}"
      ]
     },
     "execution_count": 95,
     "metadata": {},
     "output_type": "execute_result"
    }
   ],
   "source": [
    "# Use the random grid to search for best hyperparameters\n",
    "rf = RandomForestRegressor(oob_score=True)\n",
    "# Random search of parameters, using 3 fold cross validation, \n",
    "# search across 100 different combinations, and use all available cores\n",
    "rf_random = RandomizedSearchCV(estimator = rf, param_distributions = random_grid, n_iter = 100, cv = 3, random_state=42, n_jobs = -1)\n",
    "rf_random.fit(train_features, train_labels)\n",
    "rf_random.best_params_"
   ]
  },
  {
   "cell_type": "code",
   "execution_count": 12,
   "metadata": {},
   "outputs": [
    {
     "name": "stdout",
     "output_type": "stream",
     "text": [
      "Improvement of 22.60%. from no bootstrapping\n",
      "Improvement of 4.36%. from bootstrapping before random check\n"
     ]
    },
    {
     "data": {
      "image/png": "[encoded data removed]",
      "text/plain": [
       "<Figure size 432x288 with 1 Axes>"
      ]
     },
     "metadata": {
      "needs_background": "light"
     },
     "output_type": "display_data"
    },
    {
     "data": {
      "image/png": "[encoded data removed]",
      "text/plain": [
       "<Figure size 432x288 with 1 Axes>"
      ]
     },
     "metadata": {
      "needs_background": "light"
     },
     "output_type": "display_data"
    },
    {
     "data": {
      "image/png": "[encoded data removed]",
      "text/plain": [
       "<Figure size 432x288 with 1 Axes>"
      ]
     },
     "metadata": {
      "needs_background": "light"
     },
     "output_type": "display_data"
    }
   ],
   "source": [
    "# base_model = RandomForestRegressor(bootstrap = False, random_state = 42)\n",
    "base_model = joblib.load(\"/Users/laurengomezcullen/Documents/Cambridge/Fourth/Project/final/random_forest/outputs/base_model_chagas_density.joblib\")\n",
    "base_model.fit(train_features, train_labels)\n",
    "base_mae, base_stats = evaluate(base_model, test_features, test_labels, \"base\")\n",
    "# joblib.dump(base_model, \"/Users/laurengomezcullen/Documents/Cambridge/Fourth/Project/final/random_forest/outputs/base_model_chagas_density.joblib\")\n",
    "\n",
    "# base_model_boot = RandomForestRegressor(random_state = 42, oob_score=True)\n",
    "base_model_boot = joblib.load(\"/Users/laurengomezcullen/Documents/Cambridge/Fourth/Project/final/random_forest/outputs/base_model_boot_chagas_density.joblib\")\n",
    "base_model_boot.fit(train_features, train_labels)\n",
    "base_mae_boot, base_mae_boot_stats = evaluate(base_model_boot, test_features, test_labels, \"base_boot\")\n",
    "# print('base with boot oob prediction: ' + str(base_model_boot.oob_prediction_))\n",
    "#print('base with boot oob: ' + str(base_model_boot.oob_score_))\n",
    "# joblib.dump(base_model_boot, \"/Users/laurengomezcullen/Documents/Cambridge/Fourth/Project/final/random_forest/outputs/base_model_boot_chagas_density.joblib\")\n",
    "\n",
    "# best_random = rf_random.best_estimator_\n",
    "best_random = joblib.load(\"/Users/laurengomezcullen/Documents/Cambridge/Fourth/Project/final/random_forest/outputs/best_random_chagas_density.joblib\")\n",
    "random_mae, random_stats = evaluate(best_random, test_features, test_labels, \"random_base\")\n",
    "# joblib.dump(best_random, \"/Users/laurengomezcullen/Documents/Cambridge/Fourth/Project/final/random_forest/outputs/best_random_chagas_density.joblib\")\n",
    "# print('random oob prediction: ' + str(best_random.oob_prediction_))\n",
    "# print('random_mae error: ' + str(random_mae))\n",
    "# print('random oob: ' + str(best_random.oob_score_))\n",
    "print('Improvement of {:0.2f}%. from no bootstrapping'.format( 100 * (base_mae-random_mae) / base_mae))\n",
    "print('Improvement of {:0.2f}%. from bootstrapping before random check'.format( 100 * (base_mae_boot-random_mae) / base_mae))"
   ]
  },
  {
   "cell_type": "code",
   "execution_count": 111,
   "metadata": {},
   "outputs": [
    {
     "name": "stdout",
     "output_type": "stream",
     "text": [
      "RandomForestRegressor(ccp_alpha=0, max_features=1,\n",
      "                      max_samples=0.12857142857142856)\n"
     ]
    },
    {
     "name": "stderr",
     "output_type": "stream",
     "text": [
      "/Users/laurengomezcullen/opt/anaconda3/envs/python_Env/lib/python3.8/site-packages/sklearn/model_selection/_validation.py:372: FitFailedWarning: \n",
      "3 fits failed out of a total of 150.\n",
      "The score on these train-test partitions for these parameters will be set to nan.\n",
      "If these failures are not expected, you can try to debug them by setting error_score='raise'.\n",
      "\n",
      "Below are more details about the failures:\n",
      "--------------------------------------------------------------------------------\n",
      "3 fits failed with the following error:\n",
      "Traceback (most recent call last):\n",
      "  File \"/Users/laurengomezcullen/opt/anaconda3/envs/python_Env/lib/python3.8/site-packages/sklearn/model_selection/_validation.py\", line 680, in _fit_and_score\n",
      "    estimator.fit(X_train, y_train, **fit_params)\n",
      "  File \"/Users/laurengomezcullen/opt/anaconda3/envs/python_Env/lib/python3.8/site-packages/sklearn/ensemble/_forest.py\", line 385, in fit\n",
      "    n_samples_bootstrap = _get_n_samples_bootstrap(\n",
      "  File \"/Users/laurengomezcullen/opt/anaconda3/envs/python_Env/lib/python3.8/site-packages/sklearn/ensemble/_forest.py\", line 117, in _get_n_samples_bootstrap\n",
      "    raise ValueError(msg.format(max_samples))\n",
      "ValueError: `max_samples` must be in range (0.0, 1.0] but got value 0.0\n",
      "\n",
      "  warnings.warn(some_fits_failed_message, FitFailedWarning)\n",
      "/Users/laurengomezcullen/opt/anaconda3/envs/python_Env/lib/python3.8/site-packages/sklearn/model_selection/_search.py:969: UserWarning: One or more of the test scores are non-finite: [        nan -0.00137302  0.00225129  0.00563763  0.01120827  0.00498251\n",
      "  0.010894    0.01101284  0.0115346   0.01910568  0.02257806  0.00433336\n",
      " -0.00066301  0.02225607 -0.01038816  0.02333857  0.00718764  0.00531485\n",
      "  0.01419838  0.00982349  0.01142101  0.02380257  0.01742223  0.00334014\n",
      "  0.00982236 -0.00023668  0.01079081 -0.0035668  -0.00224173  0.00143206\n",
      " -0.00017869 -0.01703082  0.00129661 -0.0067784   0.00653847  0.01133581\n",
      "  0.01177624 -0.0036806   0.00695293 -0.00039061  0.00315484 -0.00799969\n",
      "  0.00044743 -0.01450438 -0.00682202  0.00672776 -0.00755394 -0.01032464\n",
      " -0.01404144  0.0063203 ]\n",
      "  warnings.warn(\n"
     ]
    }
   ],
   "source": [
    "#now try to fine tune\n",
    "\n",
    "# Create the parameter grid based on the results of random search \n",
    "param_grid = {'max_samples': [i for i in np.linspace(start = 0, stop = 0.3, num = 50)],\n",
    "               'max_features': [1],\n",
    "               'ccp_alpha': [0]\n",
    "               }\n",
    "            #    0.2631578947368421\n",
    "\n",
    "# [0.2631578947368421]\n",
    "\n",
    "# Create a based model\n",
    "rf = RandomForestRegressor()\n",
    "\n",
    "# Instantiate the grid search model\n",
    "grid_search = GridSearchCV(estimator = rf, param_grid = param_grid, \n",
    "                          cv = 3, n_jobs = -1)\n",
    "\n",
    "# Fit the grid search to the data\n",
    "grid_search.fit(train_features, train_labels)\n",
    "best_grid = grid_search.best_estimator_\n",
    "print(best_grid)"
   ]
  },
  {
   "cell_type": "code",
   "execution_count": 11,
   "metadata": {},
   "outputs": [
    {
     "name": "stdout",
     "output_type": "stream",
     "text": [
      "Improvement of 25.76%.\n",
      "0.00030911048921481013\n",
      "0.0001770563159803809\n"
     ]
    },
    {
     "data": {
      "image/png": "[encoded data removed]",
      "text/plain": [
       "<Figure size 432x288 with 1 Axes>"
      ]
     },
     "metadata": {
      "needs_background": "light"
     },
     "output_type": "display_data"
    }
   ],
   "source": [
    "#evaluate the grid performance\n",
    "best_grid = joblib.load(\"/Users/laurengomezcullen/Documents/Cambridge/Fourth/Project/final/random_forest/outputs/best_grid_chagas_density.joblib\")\n",
    "grid_mae, grid_stats = evaluate(best_grid, test_features, test_labels, \"final\")\n",
    "print('Improvement of {:0.2f}%.'.format( 100 * (base_mae_boot-grid_mae) / base_mae))\n",
    "print(grid_mae)\n",
    "print(np.mean(test_labels))\n",
    "# joblib.dump(best_grid, \"/Users/laurengomezcullen/Documents/Cambridge/Fourth/Project/final/random_forest/outputs/best_grid_chagas_density.joblib\")\n",
    "#little improvement so no more adjusting. the improvement lay within the range I would observe when just excecuting the same value as before again. \n"
   ]
  },
  {
   "cell_type": "code",
   "execution_count": 121,
   "metadata": {},
   "outputs": [],
   "source": [
    "# create prediction for entire country using model\n",
    "grid_mae = evaluate(best_grid, features, labels, \"final_entire_country\")"
   ]
  },
  {
   "cell_type": "code",
   "execution_count": 40,
   "metadata": {},
   "outputs": [
    {
     "data": {
      "text/plain": [
       "array([8.28528788, 5.63489286, 4.06129437, ..., 3.90876696, 6.15389683,\n",
       "       2.86983838])"
      ]
     },
     "execution_count": 40,
     "metadata": {},
     "output_type": "execute_result"
    }
   ],
   "source": [
    "np.loadtxt(\"/Users/laurengomezcullen/Documents/Cambridge/Fourth/Project/final/random_forest/outputs/final_entire_country_current_predictions.csv\")"
   ]
  }
 ],
 "metadata": {
  "interpreter": {
   "hash": "d20263bc5407bfd1f081871e252f0bc8e862d723b44eb4732fd3c7f7deaa955d"
  },
  "kernelspec": {
   "display_name": "Python 3.8.13 ('python_Env')",
   "language": "python",
   "name": "python3"
  },
  "language_info": {
   "codemirror_mode": {
    "name": "ipython",
    "version": 3
   },
   "file_extension": ".py",
   "mimetype": "text/x-python",
   "name": "python",
   "nbconvert_exporter": "python",
   "pygments_lexer": "ipython3",
   "version": "3.8.13"
  },
  "orig_nbformat": 4
 },
 "nbformat": 4,
 "nbformat_minor": 2
}
