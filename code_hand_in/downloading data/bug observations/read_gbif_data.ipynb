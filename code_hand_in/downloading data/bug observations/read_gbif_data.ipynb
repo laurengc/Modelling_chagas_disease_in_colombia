{
 "cells": [
  {
   "cell_type": "code",
   "execution_count": 1,
   "id": "2d9a9614",
   "metadata": {},
   "outputs": [
    {
     "name": "stdout",
     "output_type": "stream",
     "text": [
      "Requirement already satisfied: python-dwca-reader in /Users/laurengomezcullen/opt/anaconda3/envs/python_Env/lib/python3.8/site-packages (0.15.0)\n",
      "Note: you may need to restart the kernel to use updated packages.\n"
     ]
    }
   ],
   "source": [
    "pip install python-dwca-reader\n"
   ]
  },
  {
   "cell_type": "code",
   "execution_count": 3,
   "id": "405248db",
   "metadata": {},
   "outputs": [],
   "source": [
    "import pandas as  pd\n",
    "import dwca\n",
    "from dwca.read import DwCAReader\n"
   ]
  },
  {
   "cell_type": "code",
   "execution_count": 15,
   "id": "bebd8766",
   "metadata": {},
   "outputs": [
    {
     "name": "stdout",
     "output_type": "stream",
     "text": [
      "['(Stål, 1859)' '(Uhler, 1894)' '(Leconte, 1855)' 'Neiva, 1911'\n",
      " 'Neiva, 1912' '(Stål, 1868)' 'Usinger, 1939' '(Usinger, 1939)'\n",
      " '(Latreille, 1811)' 'Barber, 1938' 'Usinger, 1940' '(Usinger, 1941)'\n",
      " '(Herrich-Schaeffer, 1848)' 'Ryckman, 1962']\n"
     ]
    },
    {
     "name": "stderr",
     "output_type": "stream",
     "text": [
      "/var/folders/x6/cq3jxj9j3zz2zgk2zvxn46q80000gn/T/ipykernel_3063/2608135905.py:59: SettingWithCopyWarning: \n",
      "A value is trying to be set on a copy of a slice from a DataFrame.\n",
      "Try using .loc[row_indexer,col_indexer] = value instead\n",
      "\n",
      "See the caveats in the documentation: https://pandas.pydata.org/pandas-docs/stable/user_guide/indexing.html#returning-a-view-versus-a-copy\n",
      "  occurrence_df['subFamily'] = 'Triatominae'\n"
     ]
    }
   ],
   "source": [
    "'''\n",
    "use this dataset, contains longitude and latitude and also the habitat\n",
    "'''\n",
    "\n",
    "# countries = ['Colombia', 'México']\n",
    "# for i in countries:\n",
    "#     with DwCAReader('/Users/laurengomezcullen/Documents/Cambridge/Fourth/Project/final/data/possible_kissing_bug_data/gbif_data') as dwca:    \n",
    "#         total_occurrence_df = dwca.pd_read('occurrence.txt', parse_dates=True, low_memory = False) #reading the DwCA data\n",
    "        \n",
    "#         #reduce to observations since the 90s\n",
    "#         recent_occurrences = total_occurrence_df[total_occurrence_df['scientificNameAuthorship'].str.contains('20|199|198|197', regex = True)] \n",
    "\n",
    "#         #select the useful columns\n",
    "#         print(recent_occurrences.columns)\n",
    "\n",
    "#         occurrence_df = recent_occurrences[['id', 'habitat', 'country', 'countryCode', 'decimalLatitude', 'decimalLongitude', 'coordinateUncertaintyInMeters', 'scientificName']]\n",
    "#         occurrence_df['subFamily'] = 'Triatominae'\n",
    "\n",
    "#         #finding the data for a given country\n",
    "#         occurrences = occurrence_df[occurrence_df['country'].str.contains(i)==True]\n",
    "#         occurrences_same_inaturalist = occurrences[['id','decimalLatitude', 'decimalLongitude', 'coordinateUncertaintyInMeters', 'scientificName', 'subFamily']]\n",
    "#         new_columns = {'decimalLatitude': 'latitude', 'decimalLongitude':'longitude'}\n",
    "#         occurrences_matchning = occurrences_same_inaturalist.rename(columns = new_columns)\n",
    "        \n",
    "        \n",
    "#         #writing the files with and without the habitat information to a file in csv format\n",
    "#         occurrences_matchning.to_csv('/Users/laurengomezcullen/Documents/Cambridge/Fourth/Project/final/data/possible_kissing_bug_data/gbif_data/'+ i + '_observations_with_positions_matching_inaturalist.csv', index = False)\n",
    "#         # habitat_occurrences = occurrences[occurrences['habitat'].notnull()]\n",
    "#         # habitat_occurrences.to_csv('/Users/laurengomezcullen/Documents/Cambridge/Fourth/Project/final/data/possible_kissing_bug_data/dwca-triatominos-v1/'+ i + '_observations_with_position_and_habitat.csv')\n",
    "#         # print(occurrences)\n",
    "        \n",
    "\n",
    "\"\"\"\n",
    "the following code was when the mexico border and texas was being considered, however there are no recent observations in this area so it has been ignored.\n",
    "\"\"\"\n",
    "# with DwCAReader('/Users/laurengomezcullen/Documents/Cambridge/Fourth/Project/final/data/possible_kissing_bug_data/gbif_data') as dwca:        \n",
    "#     total_occurrence_df = dwca.pd_read('occurrence.txt', parse_dates=True, low_memory = False) #reading the DwCA data\n",
    "\n",
    "#     #reduce to observations since the 90s    \n",
    "#     recent_occurrences = total_occurrence_df\n",
    "#     #recent_occurrences = total_occurrence_df[total_occurrence_df['scientificNameAuthorship'].str.contains('20|199|198|197', regex = True)] \n",
    "\n",
    "#     # select the useful columns\n",
    "#     occurrence_df = recent_occurrences[['id', 'habitat', 'country', 'countryCode', 'decimalLatitude', 'decimalLongitude', 'coordinateUncertaintyInMeters', 'scientificName','scientificNameAuthorship' ]]\n",
    "#     occurrence_df['subFamily'] = 'Triatominae'\n",
    "    \n",
    "#     #get region\n",
    "#     long_range = [38,10]\n",
    "#     lat_range = [-120,-80]\n",
    "#     # print(occurrence_df)\n",
    "#     # occurrence_df.to_csv('/Users/laurengomezcullen/Documents/Cambridge/Fourth/Project/final/data/possible_kissing_bug_data/gbif_data/recent_observations.csv')\n",
    "#     mexico_and_texas_occurrences = occurrence_df.loc[(occurrence_df['decimalLatitude'] >= 22) & (occurrence_df['decimalLatitude'] <= 37) & (occurrence_df['decimalLongitude'] <= -93)&(occurrence_df['decimalLongitude'] >= -110)]\n",
    "#     print(mexico_and_texas_occurrences['scientificNameAuthorship'].unique())\n",
    "#     # print(mexico_and_texas_occurrences)\n",
    "\n",
    "#     #renaming to match inaturalist\n",
    "#     occurrences_same_inaturalist = mexico_and_texas_occurrences[['id','decimalLatitude', 'decimalLongitude', 'coordinateUncertaintyInMeters', 'scientificName', 'subFamily']]\n",
    "#     new_columns = {'decimalLatitude': 'latitude', 'decimalLongitude':'longitude'}\n",
    "#     occurrences_matchning = occurrences_same_inaturalist.rename(columns = new_columns)\n",
    "\n",
    "#     occurrences_matchning.to_csv('/Users/laurengomezcullen/Documents/Cambridge/Fourth/Project/final/data/possible_kissing_bug_data/gbif_data/mexico_border_and_texas_observations_matching_inaturalist.csv')\n",
    "#     # habitat_occurrences = mexico_occurrences[mexico_occurrences['habitat'].notnull()]\n",
    "#     # print(habitat_occurrences)\n",
    "#     # habitat_occurrences.to_csv('/Users/laurengomezcullen/Documents/Cambridge/Fourth/Project/final/data/possible_kissing_bug_data/dwca-triatominos-v1/colombia_observations_with_position_and_habitat.csv')\n"
   ]
  }
 ],
 "metadata": {
  "kernelspec": {
   "display_name": "Python 3 (ipykernel)",
   "language": "python",
   "name": "python3"
  },
  "language_info": {
   "codemirror_mode": {
    "name": "ipython",
    "version": 3
   },
   "file_extension": ".py",
   "mimetype": "text/x-python",
   "name": "python",
   "nbconvert_exporter": "python",
   "pygments_lexer": "ipython3",
   "version": "3.8.13"
  }
 },
 "nbformat": 4,
 "nbformat_minor": 5
}
