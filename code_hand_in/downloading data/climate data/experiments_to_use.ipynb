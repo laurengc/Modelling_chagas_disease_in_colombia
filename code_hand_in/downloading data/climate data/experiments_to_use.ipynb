{
 "cells": [
  {
   "cell_type": "code",
   "execution_count": 128,
   "metadata": {},
   "outputs": [],
   "source": [
    "import pandas as pd\n",
    "import numpy as np\n"
   ]
  },
  {
   "cell_type": "code",
   "execution_count": 131,
   "metadata": {},
   "outputs": [
    {
     "name": "stderr",
     "output_type": "stream",
     "text": [
      "/var/folders/x6/cq3jxj9j3zz2zgk2zvxn46q80000gn/T/ipykernel_1014/663482968.py:24: SettingWithCopyWarning: \n",
      "A value is trying to be set on a copy of a slice from a DataFrame.\n",
      "Try using .loc[row_indexer,col_indexer] = value instead\n",
      "\n",
      "See the caveats in the documentation: https://pandas.pydata.org/pandas-docs/stable/user_guide/indexing.html#returning-a-view-versus-a-copy\n",
      "  df_likely['Model_IPCC'] = likely_models\n"
     ]
    },
    {
     "data": {
      "text/plain": [
       "'\\nfound that the models present are all on the lower end, and so I will be downloading more models (those that fall within the very likely range) \\nand seeing if it provides more balance\\n'"
      ]
     },
     "execution_count": 131,
     "metadata": {},
     "output_type": "execute_result"
    }
   ],
   "source": [
    "#originally I was planning on using an ensemble of climate models that were within the 'likely' or 'very likely' range, however this was dropped as I wasn't able to download all the data from WorldClim due to issus with the server/my laptop.\n",
    "#not all the models had the relevent time periods so I was searching for those that had the data required and was within the range\n",
    "\n",
    "#read in dataframe containing list of which models were used for each situation\n",
    "df_yes_no = pd.read_csv('/Users/laurengomezcullen/Documents/Cambridge/Fourth/Project/final/data/bioClimData/monthly/Colombia/data_frame_of_models.csv')\n",
    "\n",
    "\n",
    "#list of just the experiments across all situations\n",
    "experiments = df_yes_no.columns[5:25]\n",
    "df_yes_no = df_yes_no[(df_yes_no.experiment != 'historical') & (df_yes_no.variable == 'daily_minimum_near_surface_air_temperature')] #removing the historical rows as no longer being used\n",
    "\n",
    "#print(df_yes_no)\n",
    "#narrowing down the list of experiments to those that are present across all situations except the historical ones as a different data source will be used for that\n",
    "for i in experiments:\n",
    "    sum = df_yes_no[i].value_counts()\n",
    "    if 'no' in sum.index: #needed as some entrees had no 'no's and so it was causing issues\n",
    "        experiments = experiments.drop(i)\n",
    "\n",
    "experiments_df = pd.DataFrame(experiments)\n",
    "# experiments_df.to_csv('/Users/laurengomezcullen/Documents/Cambridge/Fourth/Project/final/data/bioClimData/monthly/pr.csv')\n",
    "\n",
    "\n",
    "#observing the ECS range of the likely models that are present across all the situations\n",
    "df = pd.read_csv('/Users/laurengomezcullen/Documents/Cambridge/Fourth/Project/final/data/climate_models.csv')\n",
    "df_likely = df.loc[(df['ECS °C'] >= 2.5) & (df['ECS °C'] <= 4)]\n",
    "likely_models = df_likely['Model_IPCC'].replace('-', '_', regex=True).str.lower()  # create list of models with the correct formatting\n",
    "df_likely['Model_IPCC'] = likely_models \n",
    "df = df_likely.loc[df_likely['Model_IPCC'].isin(experiments)]\n",
    "df.to_csv('/Users/laurengomezcullen/Documents/Cambridge/Fourth/Project/final/data/bioClimData/monthly/Colombia/tasmin.csv')\n",
    "\n",
    "'''\n",
    "found that the models present are all on the lower end, and so I will be downloading more models (those that fall within the very likely range) \n",
    "and seeing if it provides more balance\n",
    "'''\n"
   ]
  }
 ],
 "metadata": {
  "interpreter": {
   "hash": "f3f07b11a23724ce191c2ea9bb68c5e94bb28d7157858ebb95056e78b46bd409"
  },
  "kernelspec": {
   "display_name": "Python 3.8.12 ('base')",
   "language": "python",
   "name": "python3"
  },
  "language_info": {
   "codemirror_mode": {
    "name": "ipython",
    "version": 3
   },
   "file_extension": ".py",
   "mimetype": "text/x-python",
   "name": "python",
   "nbconvert_exporter": "python",
   "pygments_lexer": "ipython3",
   "version": "3.8.12"
  },
  "orig_nbformat": 4
 },
 "nbformat": 4,
 "nbformat_minor": 2
}
