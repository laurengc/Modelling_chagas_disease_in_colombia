{
 "cells": [
  {
   "cell_type": "code",
   "execution_count": 18,
   "id": "327d54bc",
   "metadata": {},
   "outputs": [],
   "source": [
    "# imports\n",
    "import pandas as pd\n",
    "import cdsapi\n",
    "import os\n",
    "import zipfile\n",
    "import glob\n",
    "import shutil\n",
    "import pathlib\n",
    "import numpy as np"
   ]
  },
  {
   "cell_type": "code",
   "execution_count": 19,
   "id": "a2be32ab",
   "metadata": {},
   "outputs": [],
   "source": [
    "# getting list of all IPCC models in the 2021 physical science IPCC sixth report\n",
    "\n",
    "# read in the csv file i made with the list of models\n",
    "def readModels():\n",
    "    df = pd.read_csv(\n",
    "        '/Users/laurengomezcullen/Documents/Cambridge/Fourth/Project/final/data/climate_models.csv')\n",
    "\n",
    "    # reduce to those within the likely climate sensitivity range\n",
    "    df_likely = df.loc[(df['ECS °C'] >= 2.5) & (df['ECS °C'] <= 4)]\n",
    "    likely_models = df_likely['Model_IPCC'].reset_index( drop=True).replace('-', '_', regex=True).str.lower()  # create list of models\n",
    "    return likely_models"
   ]
  },
  {
   "cell_type": "code",
   "execution_count": 48,
   "id": "d1af558a",
   "metadata": {},
   "outputs": [],
   "source": [
    "# Defining all the options for monthly bioclim variables\n",
    "def setData():\n",
    "\n",
    "    pathways = ['historical', 'ssp1_2_6',  'ssp2_4_5','ssp5_8_5']\n",
    "    variables = ['daily_maximum_near_surface_air_temperature', 'daily_minimum_near_surface_air_temperature','precipitation']\n",
    "    periods = ['2021-01-01/2040-12-31', '2041-01-01/2060-12-31', '2061-01-01/2080-12-31', '2081-01-01/2100-12-31']\n",
    "    countries = {'Mexico': [35, -120, 10,-80,], 'Colombia': [15, -80, -5,-65,], 'Mexico_and_Texas':[38, -120, 10,-80,] }\n",
    "    temporal_resolution = 'monthly'\n",
    "\n",
    "    '''\n",
    "    # dummy data\n",
    "    pathways = ['ssp1_2_6']\n",
    "    variables = ['daily_maximum_near_surface_air_temperature','daily_minimum_near_surface_air_temperature', 'precipitation']\n",
    "    periods = ['2021-01-01/2040-12-31']\n",
    "    countries = {'Mexico': [35, -120, 10, -80, ],'Colombia': [15, -80, -5,-65,] }\n",
    "    temporal_resolution = 'monthly'\n",
    "    '''\n",
    "    \n",
    "    #separating locations and names for later use\n",
    "    location_ranges = list(countries.values())\n",
    "    location_names = list(countries.keys())\n",
    "    return pathways, variables, periods, countries, temporal_resolution, location_ranges, location_names\n",
    "    \n",
    "    \n",
    " \n",
    "\n",
    "# function to initialise query\n",
    "def initialiseQuery():\n",
    "    return {\n",
    "    'temporal_resolution': 'monthly',\n",
    "    'experiment': 'null',\n",
    "    'level': 'single_levels',\n",
    "    'variable': 'null',\n",
    "    'model': 'null',\n",
    "    'date': 'null',\n",
    "    'format': 'zip',\n",
    "    'area': 'null',\n",
    "}\n",
    "\n",
    "# function to set the attributes to retrieve\n",
    "def setQuery(attributes, SSP, variable, model, region, years):\n",
    "    attributes['experiment'] = SSP\n",
    "    attributes['variable'] = variable\n",
    "    attributes['model'] = model\n",
    "    attributes['area'] = region\n",
    "    attributes['date'] = years\n",
    "\n",
    "#creating an empty dataframe to store which models were used for each variable\n",
    "def createSummaryDF(query, likely_models):\n",
    "    df_columns = list(query.keys()) + ['country'] + likely_models.to_list() + ['count_yes']\n",
    "    for i in ['format', 'level', 'model', 'area']:\n",
    "        df_columns.remove(i)\n",
    "    df_models_used = pd.DataFrame(columns = df_columns)\n",
    "    return df_models_used, df_columns\n",
    "\n",
    "# a function adding information to the Dataframe\n",
    "def createInfoForDF(df_models_used,country, years, SSP, variable,models_used):\n",
    "    models_used = models_used.to_list()\n",
    "    row_contents= ['monthly', SSP, variable, years, country] + models_used + [models_used.count('yes')]\n",
    "    row_to_df = dict(zip(df_columns, row_contents))\n",
    "    return df_models_used.append(row_to_df, ignore_index=True)\n",
    "\n",
    "# creating function to unzip and move the relevant files to my harddrive under a different name\n",
    "def unzip_and_move(zip_path, temporal_resolution, pathway, variable, model, country, years):\n",
    "    dates = '_' + years[11:15]\n",
    "    with zipfile.ZipFile(zip_path, \"r\") as zip_ref:\n",
    "        zip_ref.extractall(os.getcwd() + '/download')\n",
    "    new_path = '/Volumes/TOSHIBA EXT/' + temporal_resolution + '/' + country +  '/'+ dates+ '/' + pathway + '/' + variable + '/' + model + '.nc'\n",
    "    if not os.path.isdir('/Volumes/TOSHIBA EXT/' + temporal_resolution + '/' + country +  '/'+ dates+ '/' + pathway + '/' + variable + '/'):\n",
    "        os.makedirs('/Volumes/TOSHIBA EXT/' + temporal_resolution + '/' + country  +'/'+ dates+ '/' + pathway + '/' + variable + '/')\n",
    "    netcdf_path = os.getcwd() + '/' + glob.glob('*/*.nc')[0]\n",
    "    shutil.move(netcdf_path, new_path)\n",
    "    shutil.rmtree(os.getcwd() + '/download')\n",
    "\n",
    "\n",
    "#get what the country name is from the region that is being considered\n",
    "def getCountry(region):\n",
    "    return location_names[location_ranges.index(region)]\n",
    "\n",
    "def downloadData(likely_models):\n",
    "    #for region in location_ranges:\n",
    "    region = location_ranges[2] #change depending on the country that you wish to look at\n",
    "    global df_columns\n",
    "    df_models_used, df_columns = createSummaryDF(query, likely_models)\n",
    "    for variable in variables:\n",
    "        for SSP in pathways:  # ssp stands for shared socioeconomic pathway\n",
    "            if SSP != 'historical':\n",
    "                for years in periods:\n",
    "                    models_used = likely_models.copy().squeeze()\n",
    "                    for model in likely_models:\n",
    "                        setQuery(query, SSP, variable, model, region, years)\n",
    "                        try:\n",
    "                            print(model)\n",
    "                            c = cdsapi.Client()\n",
    "\n",
    "                            c.retrieve(\n",
    "                                'projections-cmip6',\n",
    "                                query,\n",
    "                                'download.zip')\n",
    "\n",
    "                            zip_path = os.getcwd() + '/download.zip'\n",
    "                            \n",
    "                            temporal_resolution = 'monthly'\n",
    "                            country = getCountry(region)\n",
    "                            unzip_and_move(zip_path, temporal_resolution, SSP, variable, model, country, years)\n",
    "                            print(SSP + model + ': completed')\n",
    "                            models_used = models_used.replace(model, 'yes')\n",
    "                        except:\n",
    "                            models_used = models_used.replace(model, 'no')\n",
    "                            print(SSP + model + ': failed')\n",
    "\n",
    "                    country = getCountry(region)\n",
    "                    df_models_used = createInfoForDF(df_models_used, country, years, SSP, variable,models_used)\n",
    "            \n",
    "            else:\n",
    "                years = '2001-01-01/2020-12-31'\n",
    "                models_used = likely_models.copy().squeeze()\n",
    "                for model in likely_models:\n",
    "                    setQuery(query, SSP, variable, model, region, years)\n",
    "                    try:\n",
    "                        c = cdsapi.Client()\n",
    "\n",
    "                        c.retrieve(\n",
    "                            'projections-cmip6',\n",
    "                            query,\n",
    "                            'download.zip')\n",
    "\n",
    "                        zip_path = os.getcwd() + '/download.zip'\n",
    "                        \n",
    "                        temporal_resolution = 'monthly'\n",
    "                        country = getCountry(region)\n",
    "                        unzip_and_move(zip_path, temporal_resolution, SSP, variable, model, country, years)\n",
    "                        print(SSP + model + ': completed')\n",
    "                        models_used = models_used.replace(model, 'yes')\n",
    "                    except:\n",
    "                        models_used = models_used.replace(model, 'no') #to be used in the df_models_used\n",
    "                        print(SSP + model + ': failed')\n",
    "                \n",
    "                country = getCountry(region)\n",
    "                df_models_used = createInfoForDF(df_models_used, country, years, SSP, variable,models_used)\n",
    "    df_models_used.to_csv('/Volumes/TOSHIBA EXT/monthly/' + country + '/data_frame_of_models.csv', index = False)\n",
    "\n",
    "\n",
    "\n"
   ]
  },
  {
   "cell_type": "code",
   "execution_count": 21,
   "id": "a2bdcf0e",
   "metadata": {},
   "outputs": [],
   "source": [
    "def main():\n",
    "  likely_models = readModels()\n",
    "  global pathways, variables, periods, countries, temporal_resolution, location_ranges, location_names\n",
    "  pathways, variables, periods, countries, temporal_resolution, location_ranges, location_names = setData()\n",
    "  global query\n",
    "  query = initialiseQuery()\n",
    "  downloadData(likely_models)\n",
    "  \n"
   ]
  },
  {
   "cell_type": "code",
   "execution_count": 49,
   "id": "a440a2b7",
   "metadata": {},
   "outputs": [
    {
     "name": "stdout",
     "output_type": "stream",
     "text": [
      "cnrm_cm6_1\n"
     ]
    },
    {
     "name": "stderr",
     "output_type": "stream",
     "text": [
      "2022-04-11 12:49:20,534 INFO Welcome to the CDS\n",
      "2022-04-11 12:49:20,540 INFO Sending request to https://cds.climate.copernicus.eu/api/v2/resources/projections-cmip6\n",
      "2022-04-11 12:49:20,695 INFO Request is completed\n",
      "2022-04-11 12:49:20,696 INFO Downloading https://download-0012-clone.copernicus-climate.eu/cache-compute-0012/cache/data3/adaptor.esgf_wps.retrieve-1649669327.9870224-2320-18-9c5cfbed-4f36-4b29-bae9-aca32d47f31f.zip to download.zip (537.9K)\n",
      "2022-04-11 12:49:21,389 INFO Download rate 776.7K/s\n",
      "2022-04-11 12:49:21,538 INFO Welcome to the CDS\n",
      "2022-04-11 12:49:21,545 INFO Sending request to https://cds.climate.copernicus.eu/api/v2/resources/projections-cmip6\n",
      "2022-04-11 12:49:21,639 INFO Request is queued\n"
     ]
    },
    {
     "name": "stdout",
     "output_type": "stream",
     "text": [
      "ssp1_2_6cnrm_cm6_1: completed\n",
      "cesm2_waccm_fv2\n"
     ]
    },
    {
     "name": "stderr",
     "output_type": "stream",
     "text": [
      "2022-04-11 12:49:22,708 INFO Request is failed\n",
      "2022-04-11 12:49:22,709 ERROR Message: an internal error occurred processing your request\n",
      "2022-04-11 12:49:22,710 ERROR Reason:  No matching data for request {'experiment': 'ssp126', 'model': 'CESM2-WACCM-FV2', 'temporal_resolution': 'mon', 'variable': 'tasmax'}\n",
      "2022-04-11 12:49:22,712 ERROR   Traceback (most recent call last):\n",
      "2022-04-11 12:49:22,713 ERROR     File \"/opt/cdstoolbox/cdscompute/cdscompute/cdshandlers/services/handler.py\", line 59, in handle_request\n",
      "2022-04-11 12:49:22,714 ERROR       result = cached(context.method, proc, context, context.args, context.kwargs)\n",
      "2022-04-11 12:49:22,715 ERROR     File \"/opt/cdstoolbox/cdscompute/cdscompute/caching.py\", line 108, in cached\n",
      "2022-04-11 12:49:22,716 ERROR       result = proc(context, *context.args, **context.kwargs)\n",
      "2022-04-11 12:49:22,717 ERROR     File \"/opt/cdstoolbox/cdscompute/cdscompute/services.py\", line 124, in __call__\n",
      "2022-04-11 12:49:22,718 ERROR       return p(*args, **kwargs)\n",
      "2022-04-11 12:49:22,719 ERROR     File \"/opt/cdstoolbox/cdscompute/cdscompute/services.py\", line 60, in __call__\n",
      "2022-04-11 12:49:22,719 ERROR       return self.proc(context, *args, **kwargs)\n",
      "2022-04-11 12:49:22,721 ERROR     File \"/home/cds/cdsservices/services/esgf_wps/__init__.py\", line 30, in execute\n",
      "2022-04-11 12:49:22,722 ERROR       request_facets, request = facets.search(context, request)\n",
      "2022-04-11 12:49:22,723 ERROR     File \"/home/cds/cdsservices/services/esgf_wps/facets.py\", line 59, in search\n",
      "2022-04-11 12:49:22,724 ERROR       raise ValueError(f'No matching data for request {tmp_request}')\n",
      "2022-04-11 12:49:22,724 ERROR   ValueError: No matching data for request {'experiment': 'ssp126', 'model': 'CESM2-WACCM-FV2', 'temporal_resolution': 'mon', 'variable': 'tasmax'}\n",
      "2022-04-11 12:49:22,783 INFO Welcome to the CDS\n",
      "2022-04-11 12:49:22,784 INFO Sending request to https://cds.climate.copernicus.eu/api/v2/resources/projections-cmip6\n",
      "2022-04-11 12:49:22,900 INFO Request is completed\n",
      "2022-04-11 12:49:22,901 INFO Downloading https://download-0010-clone.copernicus-climate.eu/cache-compute-0010/cache/data9/adaptor.esgf_wps.retrieve-1649669358.4740148-26471-15-5b3822b0-89c9-4e7a-abdb-3f3c49fc0b47.zip to download.zip (524.6K)\n"
     ]
    },
    {
     "name": "stdout",
     "output_type": "stream",
     "text": [
      "ssp1_2_6cesm2_waccm_fv2: failed\n",
      "cnrm_esm2_1\n"
     ]
    },
    {
     "name": "stderr",
     "output_type": "stream",
     "text": [
      "2022-04-11 12:49:23,429 INFO Download rate 995.1K/s\n",
      "2022-04-11 12:49:23,563 INFO Welcome to the CDS\n",
      "2022-04-11 12:49:23,564 INFO Sending request to https://cds.climate.copernicus.eu/api/v2/resources/projections-cmip6\n",
      "2022-04-11 12:49:23,637 INFO Request is queued\n"
     ]
    },
    {
     "name": "stdout",
     "output_type": "stream",
     "text": [
      "ssp1_2_6cnrm_esm2_1: completed\n",
      "cesm2_waccm\n"
     ]
    },
    {
     "name": "stderr",
     "output_type": "stream",
     "text": [
      "2022-04-11 12:49:24,707 INFO Request is failed\n",
      "2022-04-11 12:49:24,708 ERROR Message: an internal error occurred processing your request\n",
      "2022-04-11 12:49:24,709 ERROR Reason:  No matching data for request {'experiment': 'ssp126', 'model': 'CESM2-WACCM', 'temporal_resolution': 'mon', 'variable': 'tasmax'}\n",
      "2022-04-11 12:49:24,710 ERROR   Traceback (most recent call last):\n",
      "2022-04-11 12:49:24,711 ERROR     File \"/opt/cdstoolbox/cdscompute/cdscompute/cdshandlers/services/handler.py\", line 59, in handle_request\n",
      "2022-04-11 12:49:24,711 ERROR       result = cached(context.method, proc, context, context.args, context.kwargs)\n",
      "2022-04-11 12:49:24,712 ERROR     File \"/opt/cdstoolbox/cdscompute/cdscompute/caching.py\", line 108, in cached\n",
      "2022-04-11 12:49:24,713 ERROR       result = proc(context, *context.args, **context.kwargs)\n",
      "2022-04-11 12:49:24,714 ERROR     File \"/opt/cdstoolbox/cdscompute/cdscompute/services.py\", line 124, in __call__\n",
      "2022-04-11 12:49:24,714 ERROR       return p(*args, **kwargs)\n",
      "2022-04-11 12:49:24,715 ERROR     File \"/opt/cdstoolbox/cdscompute/cdscompute/services.py\", line 60, in __call__\n",
      "2022-04-11 12:49:24,716 ERROR       return self.proc(context, *args, **kwargs)\n",
      "2022-04-11 12:49:24,717 ERROR     File \"/home/cds/cdsservices/services/esgf_wps/__init__.py\", line 30, in execute\n",
      "2022-04-11 12:49:24,717 ERROR       request_facets, request = facets.search(context, request)\n",
      "2022-04-11 12:49:24,718 ERROR     File \"/home/cds/cdsservices/services/esgf_wps/facets.py\", line 59, in search\n",
      "2022-04-11 12:49:24,718 ERROR       raise ValueError(f'No matching data for request {tmp_request}')\n",
      "2022-04-11 12:49:24,719 ERROR   ValueError: No matching data for request {'experiment': 'ssp126', 'model': 'CESM2-WACCM', 'temporal_resolution': 'mon', 'variable': 'tasmax'}\n",
      "2022-04-11 12:49:24,776 INFO Welcome to the CDS\n",
      "2022-04-11 12:49:24,777 INFO Sending request to https://cds.climate.copernicus.eu/api/v2/resources/projections-cmip6\n"
     ]
    },
    {
     "name": "stdout",
     "output_type": "stream",
     "text": [
      "ssp1_2_6cesm2_waccm: failed\n",
      "access_cm2\n"
     ]
    },
    {
     "name": "stderr",
     "output_type": "stream",
     "text": [
      "2022-04-11 12:49:24,934 INFO Request is completed\n",
      "2022-04-11 12:49:24,937 INFO Downloading https://download-0000-clone.copernicus-climate.eu/cache-compute-0000/cache/data4/adaptor.esgf_wps.retrieve-1649669356.0674-19221-17-9bdba6ec-42bc-4978-b999-5b890ef82c35.zip to download.zip (550.5K)\n",
      "2022-04-11 12:49:25,761 INFO Download rate 669.7K/s\n",
      "2022-04-11 12:49:25,904 INFO Welcome to the CDS\n",
      "2022-04-11 12:49:25,908 INFO Sending request to https://cds.climate.copernicus.eu/api/v2/resources/projections-cmip6\n"
     ]
    },
    {
     "name": "stdout",
     "output_type": "stream",
     "text": [
      "ssp1_2_6access_cm2: completed\n",
      "nesm3\n"
     ]
    },
    {
     "name": "stderr",
     "output_type": "stream",
     "text": [
      "2022-04-11 12:49:26,082 INFO Request is completed\n",
      "2022-04-11 12:49:26,084 INFO Downloading https://download-0014-clone.copernicus-climate.eu/cache-compute-0014/cache/data6/adaptor.esgf_wps.retrieve-1649669380.7326303-6375-15-718d7a30-2cc4-4f46-96a7-74308f6a6ae2.zip to download.zip (451.1K)\n",
      "2022-04-11 12:49:26,638 INFO Download rate 826.4K/s\n",
      "2022-04-11 12:49:26,772 INFO Welcome to the CDS\n",
      "2022-04-11 12:49:26,774 INFO Sending request to https://cds.climate.copernicus.eu/api/v2/resources/projections-cmip6\n",
      "2022-04-11 12:49:26,900 INFO Request is completed\n",
      "2022-04-11 12:49:26,904 INFO Downloading https://download-0003-clone.copernicus-climate.eu/cache-compute-0003/cache/data2/adaptor.esgf_wps.retrieve-1649669392.6751466-32748-16-a2398441-c5e2-4367-be85-6043ccec1a12.zip to download.zip (421.1K)\n"
     ]
    },
    {
     "name": "stdout",
     "output_type": "stream",
     "text": [
      "ssp1_2_6nesm3: completed\n",
      "ipsl_cm6a_lr\n"
     ]
    },
    {
     "name": "stderr",
     "output_type": "stream",
     "text": [
      "2022-04-11 12:49:27,473 INFO Download rate 742.2K/s\n",
      "2022-04-11 12:49:27,621 INFO Welcome to the CDS\n",
      "2022-04-11 12:49:27,623 INFO Sending request to https://cds.climate.copernicus.eu/api/v2/resources/projections-cmip6\n",
      "2022-04-11 12:49:27,695 INFO Request is queued\n"
     ]
    },
    {
     "name": "stdout",
     "output_type": "stream",
     "text": [
      "ssp1_2_6ipsl_cm6a_lr: completed\n",
      "kace_1_0_g\n"
     ]
    },
    {
     "name": "stderr",
     "output_type": "stream",
     "text": [
      "2022-04-11 12:49:28,763 INFO Request is failed\n",
      "2022-04-11 12:49:28,764 ERROR Message: an internal error occurred processing your request\n",
      "2022-04-11 12:49:28,765 ERROR Reason:  No matching data for request {'experiment': 'ssp126', 'model': 'KACE-1-0-G', 'temporal_resolution': 'mon', 'variable': 'tasmax'}\n",
      "2022-04-11 12:49:28,767 ERROR   Traceback (most recent call last):\n",
      "2022-04-11 12:49:28,807 ERROR     File \"/opt/cdstoolbox/cdscompute/cdscompute/cdshandlers/services/handler.py\", line 59, in handle_request\n",
      "2022-04-11 12:49:28,812 ERROR       result = cached(context.method, proc, context, context.args, context.kwargs)\n",
      "2022-04-11 12:49:28,818 ERROR     File \"/opt/cdstoolbox/cdscompute/cdscompute/caching.py\", line 108, in cached\n",
      "2022-04-11 12:49:28,821 ERROR       result = proc(context, *context.args, **context.kwargs)\n",
      "2022-04-11 12:49:28,823 ERROR     File \"/opt/cdstoolbox/cdscompute/cdscompute/services.py\", line 124, in __call__\n",
      "2022-04-11 12:49:28,825 ERROR       return p(*args, **kwargs)\n",
      "2022-04-11 12:49:28,826 ERROR     File \"/opt/cdstoolbox/cdscompute/cdscompute/services.py\", line 60, in __call__\n",
      "2022-04-11 12:49:28,827 ERROR       return self.proc(context, *args, **kwargs)\n",
      "2022-04-11 12:49:28,828 ERROR     File \"/home/cds/cdsservices/services/esgf_wps/__init__.py\", line 30, in execute\n",
      "2022-04-11 12:49:28,829 ERROR       request_facets, request = facets.search(context, request)\n",
      "2022-04-11 12:49:28,830 ERROR     File \"/home/cds/cdsservices/services/esgf_wps/facets.py\", line 59, in search\n",
      "2022-04-11 12:49:28,831 ERROR       raise ValueError(f'No matching data for request {tmp_request}')\n",
      "2022-04-11 12:49:28,832 ERROR   ValueError: No matching data for request {'experiment': 'ssp126', 'model': 'KACE-1-0-G', 'temporal_resolution': 'mon', 'variable': 'tasmax'}\n",
      "2022-04-11 12:49:28,892 INFO Welcome to the CDS\n",
      "2022-04-11 12:49:28,893 INFO Sending request to https://cds.climate.copernicus.eu/api/v2/resources/projections-cmip6\n",
      "2022-04-11 12:49:28,964 INFO Request is queued\n"
     ]
    },
    {
     "name": "stdout",
     "output_type": "stream",
     "text": [
      "ssp1_2_6kace_1_0_g: failed\n",
      "ec_earth3_veg\n"
     ]
    },
    {
     "name": "stderr",
     "output_type": "stream",
     "text": [
      "2022-04-11 12:49:30,030 INFO Request is failed\n",
      "2022-04-11 12:49:30,031 ERROR Message: an internal error occurred processing your request\n",
      "2022-04-11 12:49:30,033 ERROR Reason:  No matching data for request {'experiment': 'ssp126', 'model': 'EC-Earth3-Veg', 'temporal_resolution': 'mon', 'variable': 'tasmax'}\n",
      "2022-04-11 12:49:30,036 ERROR   Traceback (most recent call last):\n",
      "2022-04-11 12:49:30,039 ERROR     File \"/opt/cdstoolbox/cdscompute/cdscompute/cdshandlers/services/handler.py\", line 59, in handle_request\n",
      "2022-04-11 12:49:30,042 ERROR       result = cached(context.method, proc, context, context.args, context.kwargs)\n",
      "2022-04-11 12:49:30,044 ERROR     File \"/opt/cdstoolbox/cdscompute/cdscompute/caching.py\", line 108, in cached\n",
      "2022-04-11 12:49:30,046 ERROR       result = proc(context, *context.args, **context.kwargs)\n",
      "2022-04-11 12:49:30,047 ERROR     File \"/opt/cdstoolbox/cdscompute/cdscompute/services.py\", line 124, in __call__\n",
      "2022-04-11 12:49:30,049 ERROR       return p(*args, **kwargs)\n",
      "2022-04-11 12:49:30,053 ERROR     File \"/opt/cdstoolbox/cdscompute/cdscompute/services.py\", line 60, in __call__\n",
      "2022-04-11 12:49:30,057 ERROR       return self.proc(context, *args, **kwargs)\n",
      "2022-04-11 12:49:30,058 ERROR     File \"/home/cds/cdsservices/services/esgf_wps/__init__.py\", line 30, in execute\n",
      "2022-04-11 12:49:30,059 ERROR       request_facets, request = facets.search(context, request)\n",
      "2022-04-11 12:49:30,061 ERROR     File \"/home/cds/cdsservices/services/esgf_wps/facets.py\", line 59, in search\n",
      "2022-04-11 12:49:30,062 ERROR       raise ValueError(f'No matching data for request {tmp_request}')\n",
      "2022-04-11 12:49:30,064 ERROR   ValueError: No matching data for request {'experiment': 'ssp126', 'model': 'EC-Earth3-Veg', 'temporal_resolution': 'mon', 'variable': 'tasmax'}\n",
      "2022-04-11 12:49:30,151 INFO Welcome to the CDS\n",
      "2022-04-11 12:49:30,153 INFO Sending request to https://cds.climate.copernicus.eu/api/v2/resources/projections-cmip6\n",
      "2022-04-11 12:49:30,224 INFO Request is queued\n"
     ]
    },
    {
     "name": "stdout",
     "output_type": "stream",
     "text": [
      "ssp1_2_6ec_earth3_veg: failed\n",
      "taiesm1\n"
     ]
    },
    {
     "name": "stderr",
     "output_type": "stream",
     "text": [
      "2022-04-11 12:49:31,309 INFO Request is failed\n",
      "2022-04-11 12:49:31,311 ERROR Message: an internal error occurred processing your request\n",
      "2022-04-11 12:49:31,312 ERROR Reason:  No matching data for request {'experiment': 'ssp126', 'model': 'TaiESM1', 'temporal_resolution': 'mon', 'variable': 'tasmax'}\n",
      "2022-04-11 12:49:31,315 ERROR   Traceback (most recent call last):\n",
      "2022-04-11 12:49:31,319 ERROR     File \"/opt/cdstoolbox/cdscompute/cdscompute/cdshandlers/services/handler.py\", line 59, in handle_request\n",
      "2022-04-11 12:49:31,321 ERROR       result = cached(context.method, proc, context, context.args, context.kwargs)\n",
      "2022-04-11 12:49:31,322 ERROR     File \"/opt/cdstoolbox/cdscompute/cdscompute/caching.py\", line 108, in cached\n",
      "2022-04-11 12:49:31,324 ERROR       result = proc(context, *context.args, **context.kwargs)\n",
      "2022-04-11 12:49:31,327 ERROR     File \"/opt/cdstoolbox/cdscompute/cdscompute/services.py\", line 124, in __call__\n",
      "2022-04-11 12:49:31,332 ERROR       return p(*args, **kwargs)\n",
      "2022-04-11 12:49:31,335 ERROR     File \"/opt/cdstoolbox/cdscompute/cdscompute/services.py\", line 60, in __call__\n",
      "2022-04-11 12:49:31,337 ERROR       return self.proc(context, *args, **kwargs)\n",
      "2022-04-11 12:49:31,338 ERROR     File \"/home/cds/cdsservices/services/esgf_wps/__init__.py\", line 30, in execute\n",
      "2022-04-11 12:49:31,339 ERROR       request_facets, request = facets.search(context, request)\n",
      "2022-04-11 12:49:31,341 ERROR     File \"/home/cds/cdsservices/services/esgf_wps/facets.py\", line 59, in search\n",
      "2022-04-11 12:49:31,343 ERROR       raise ValueError(f'No matching data for request {tmp_request}')\n",
      "2022-04-11 12:49:31,349 ERROR   ValueError: No matching data for request {'experiment': 'ssp126', 'model': 'TaiESM1', 'temporal_resolution': 'mon', 'variable': 'tasmax'}\n",
      "2022-04-11 12:49:31,423 INFO Welcome to the CDS\n",
      "2022-04-11 12:49:31,424 INFO Sending request to https://cds.climate.copernicus.eu/api/v2/resources/projections-cmip6\n"
     ]
    },
    {
     "name": "stdout",
     "output_type": "stream",
     "text": [
      "ssp1_2_6taiesm1: failed\n",
      "cnrm_cm6_1_hr\n"
     ]
    },
    {
     "name": "stderr",
     "output_type": "stream",
     "text": [
      "2022-04-11 12:49:31,598 INFO Request is completed\n",
      "2022-04-11 12:49:31,598 INFO Downloading https://download-0008-clone.copernicus-climate.eu/cache-compute-0008/cache/data7/adaptor.esgf_wps.retrieve-1649669422.7226477-19437-7-3d43aacc-1fb3-402f-8f4e-93814216dc44.zip to download.zip (2.4M)\n",
      "2022-04-11 12:49:32,390 INFO Download rate 3M/s     \n",
      "2022-04-11 12:49:32,524 INFO Welcome to the CDS\n",
      "2022-04-11 12:49:32,525 INFO Sending request to https://cds.climate.copernicus.eu/api/v2/resources/projections-cmip6\n",
      "2022-04-11 12:49:32,598 INFO Request is queued\n"
     ]
    },
    {
     "name": "stdout",
     "output_type": "stream",
     "text": [
      "ssp1_2_6cnrm_cm6_1_hr: completed\n",
      "cams_csm1_0\n"
     ]
    },
    {
     "name": "stderr",
     "output_type": "stream",
     "text": [
      "2022-04-11 12:49:35,257 INFO Request is failed\n",
      "2022-04-11 12:49:35,258 ERROR Message: an internal error occurred processing your request\n",
      "2022-04-11 12:49:35,259 ERROR Reason:  No matching data for request {'experiment': 'ssp126', 'model': 'CAMS-CSM1-0', 'temporal_resolution': 'mon', 'variable': 'tasmax'}\n",
      "2022-04-11 12:49:35,261 ERROR   Traceback (most recent call last):\n",
      "2022-04-11 12:49:35,264 ERROR     File \"/opt/cdstoolbox/cdscompute/cdscompute/cdshandlers/services/handler.py\", line 59, in handle_request\n",
      "2022-04-11 12:49:35,266 ERROR       result = cached(context.method, proc, context, context.args, context.kwargs)\n",
      "2022-04-11 12:49:35,269 ERROR     File \"/opt/cdstoolbox/cdscompute/cdscompute/caching.py\", line 108, in cached\n",
      "2022-04-11 12:49:35,272 ERROR       result = proc(context, *context.args, **context.kwargs)\n",
      "2022-04-11 12:49:35,277 ERROR     File \"/opt/cdstoolbox/cdscompute/cdscompute/services.py\", line 124, in __call__\n",
      "2022-04-11 12:49:35,283 ERROR       return p(*args, **kwargs)\n",
      "2022-04-11 12:49:35,299 ERROR     File \"/opt/cdstoolbox/cdscompute/cdscompute/services.py\", line 60, in __call__\n",
      "2022-04-11 12:49:35,305 ERROR       return self.proc(context, *args, **kwargs)\n",
      "2022-04-11 12:49:35,311 ERROR     File \"/home/cds/cdsservices/services/esgf_wps/__init__.py\", line 30, in execute\n",
      "2022-04-11 12:49:35,313 ERROR       request_facets, request = facets.search(context, request)\n",
      "2022-04-11 12:49:35,316 ERROR     File \"/home/cds/cdsservices/services/esgf_wps/facets.py\", line 59, in search\n",
      "2022-04-11 12:49:35,323 ERROR       raise ValueError(f'No matching data for request {tmp_request}')\n",
      "2022-04-11 12:49:35,328 ERROR   ValueError: No matching data for request {'experiment': 'ssp126', 'model': 'CAMS-CSM1-0', 'temporal_resolution': 'mon', 'variable': 'tasmax'}\n",
      "/var/folders/x6/cq3jxj9j3zz2zgk2zvxn46q80000gn/T/ipykernel_1561/2175409282.py:62: FutureWarning: The frame.append method is deprecated and will be removed from pandas in a future version. Use pandas.concat instead.\n",
      "  return df_models_used.append(row_to_df, ignore_index=True)\n",
      "2022-04-11 12:49:35,430 INFO Welcome to the CDS\n",
      "2022-04-11 12:49:35,431 INFO Sending request to https://cds.climate.copernicus.eu/api/v2/resources/projections-cmip6\n"
     ]
    },
    {
     "name": "stdout",
     "output_type": "stream",
     "text": [
      "ssp1_2_6cams_csm1_0: failed\n",
      "cnrm_cm6_1\n"
     ]
    },
    {
     "name": "stderr",
     "output_type": "stream",
     "text": [
      "2022-04-11 12:49:35,605 INFO Request is completed\n",
      "2022-04-11 12:49:35,607 INFO Downloading https://download-0010-clone.copernicus-climate.eu/cache-compute-0010/cache/data1/adaptor.esgf_wps.retrieve-1649669445.7225413-29696-13-26e083e6-9cfc-427a-a763-f5c97915d410.zip to download.zip (539.1K)\n",
      "2022-04-11 12:49:35,952 INFO Download rate 1.5M/s \n",
      "2022-04-11 12:49:36,208 INFO Welcome to the CDS\n",
      "2022-04-11 12:49:36,222 INFO Sending request to https://cds.climate.copernicus.eu/api/v2/resources/projections-cmip6\n",
      "2022-04-11 12:49:36,294 INFO Request is queued\n"
     ]
    },
    {
     "name": "stdout",
     "output_type": "stream",
     "text": [
      "ssp1_2_6cnrm_cm6_1: completed\n",
      "cesm2_waccm_fv2\n"
     ]
    },
    {
     "name": "stderr",
     "output_type": "stream",
     "text": [
      "2022-04-11 12:49:37,360 INFO Request is failed\n",
      "2022-04-11 12:49:37,361 ERROR Message: an internal error occurred processing your request\n",
      "2022-04-11 12:49:37,364 ERROR Reason:  No matching data for request {'experiment': 'ssp126', 'model': 'CESM2-WACCM-FV2', 'temporal_resolution': 'mon', 'variable': 'tasmin'}\n",
      "2022-04-11 12:49:37,365 ERROR   Traceback (most recent call last):\n",
      "2022-04-11 12:49:37,368 ERROR     File \"/opt/cdstoolbox/cdscompute/cdscompute/cdshandlers/services/handler.py\", line 59, in handle_request\n",
      "2022-04-11 12:49:37,369 ERROR       result = cached(context.method, proc, context, context.args, context.kwargs)\n",
      "2022-04-11 12:49:37,369 ERROR     File \"/opt/cdstoolbox/cdscompute/cdscompute/caching.py\", line 108, in cached\n",
      "2022-04-11 12:49:37,371 ERROR       result = proc(context, *context.args, **context.kwargs)\n",
      "2022-04-11 12:49:37,372 ERROR     File \"/opt/cdstoolbox/cdscompute/cdscompute/services.py\", line 124, in __call__\n",
      "2022-04-11 12:49:37,373 ERROR       return p(*args, **kwargs)\n",
      "2022-04-11 12:49:37,373 ERROR     File \"/opt/cdstoolbox/cdscompute/cdscompute/services.py\", line 60, in __call__\n",
      "2022-04-11 12:49:37,374 ERROR       return self.proc(context, *args, **kwargs)\n",
      "2022-04-11 12:49:37,375 ERROR     File \"/home/cds/cdsservices/services/esgf_wps/__init__.py\", line 30, in execute\n",
      "2022-04-11 12:49:37,376 ERROR       request_facets, request = facets.search(context, request)\n",
      "2022-04-11 12:49:37,376 ERROR     File \"/home/cds/cdsservices/services/esgf_wps/facets.py\", line 59, in search\n",
      "2022-04-11 12:49:37,377 ERROR       raise ValueError(f'No matching data for request {tmp_request}')\n",
      "2022-04-11 12:49:37,379 ERROR   ValueError: No matching data for request {'experiment': 'ssp126', 'model': 'CESM2-WACCM-FV2', 'temporal_resolution': 'mon', 'variable': 'tasmin'}\n",
      "2022-04-11 12:49:37,439 INFO Welcome to the CDS\n",
      "2022-04-11 12:49:37,442 INFO Sending request to https://cds.climate.copernicus.eu/api/v2/resources/projections-cmip6\n",
      "2022-04-11 12:49:37,581 INFO Request is completed\n"
     ]
    },
    {
     "name": "stdout",
     "output_type": "stream",
     "text": [
      "ssp1_2_6cesm2_waccm_fv2: failed\n",
      "cnrm_esm2_1\n"
     ]
    },
    {
     "name": "stderr",
     "output_type": "stream",
     "text": [
      "2022-04-11 12:49:37,584 INFO Downloading https://download-0011-clone.copernicus-climate.eu/cache-compute-0011/cache/data1/adaptor.esgf_wps.retrieve-1649669459.060175-17743-6-2f335772-efca-406c-beb1-3771364ef9f9.zip to download.zip (528.6K)\n",
      "2022-04-11 12:49:38,118 INFO Download rate 993K/s \n",
      "2022-04-11 12:49:38,274 INFO Welcome to the CDS\n",
      "2022-04-11 12:49:38,288 INFO Sending request to https://cds.climate.copernicus.eu/api/v2/resources/projections-cmip6\n",
      "2022-04-11 12:49:38,356 INFO Request is queued\n"
     ]
    },
    {
     "name": "stdout",
     "output_type": "stream",
     "text": [
      "ssp1_2_6cnrm_esm2_1: completed\n",
      "cesm2_waccm\n"
     ]
    },
    {
     "name": "stderr",
     "output_type": "stream",
     "text": [
      "2022-04-11 12:49:40,991 INFO Request is failed\n",
      "2022-04-11 12:49:40,991 ERROR Message: an internal error occurred processing your request\n",
      "2022-04-11 12:49:40,992 ERROR Reason:  No matching data for request {'experiment': 'ssp126', 'model': 'CESM2-WACCM', 'temporal_resolution': 'mon', 'variable': 'tasmin'}\n",
      "2022-04-11 12:49:40,993 ERROR   Traceback (most recent call last):\n",
      "2022-04-11 12:49:40,993 ERROR     File \"/opt/cdstoolbox/cdscompute/cdscompute/cdshandlers/services/handler.py\", line 59, in handle_request\n",
      "2022-04-11 12:49:40,994 ERROR       result = cached(context.method, proc, context, context.args, context.kwargs)\n",
      "2022-04-11 12:49:40,995 ERROR     File \"/opt/cdstoolbox/cdscompute/cdscompute/caching.py\", line 108, in cached\n",
      "2022-04-11 12:49:40,996 ERROR       result = proc(context, *context.args, **context.kwargs)\n",
      "2022-04-11 12:49:40,997 ERROR     File \"/opt/cdstoolbox/cdscompute/cdscompute/services.py\", line 124, in __call__\n",
      "2022-04-11 12:49:40,998 ERROR       return p(*args, **kwargs)\n",
      "2022-04-11 12:49:41,000 ERROR     File \"/opt/cdstoolbox/cdscompute/cdscompute/services.py\", line 60, in __call__\n",
      "2022-04-11 12:49:41,001 ERROR       return self.proc(context, *args, **kwargs)\n",
      "2022-04-11 12:49:41,002 ERROR     File \"/home/cds/cdsservices/services/esgf_wps/__init__.py\", line 30, in execute\n",
      "2022-04-11 12:49:41,003 ERROR       request_facets, request = facets.search(context, request)\n",
      "2022-04-11 12:49:41,003 ERROR     File \"/home/cds/cdsservices/services/esgf_wps/facets.py\", line 59, in search\n",
      "2022-04-11 12:49:41,004 ERROR       raise ValueError(f'No matching data for request {tmp_request}')\n",
      "2022-04-11 12:49:41,005 ERROR   ValueError: No matching data for request {'experiment': 'ssp126', 'model': 'CESM2-WACCM', 'temporal_resolution': 'mon', 'variable': 'tasmin'}\n",
      "2022-04-11 12:49:41,065 INFO Welcome to the CDS\n",
      "2022-04-11 12:49:41,066 INFO Sending request to https://cds.climate.copernicus.eu/api/v2/resources/projections-cmip6\n",
      "2022-04-11 12:49:41,161 INFO Request is completed\n",
      "2022-04-11 12:49:41,163 INFO Downloading https://download-0008-clone.copernicus-climate.eu/cache-compute-0008/cache/data7/adaptor.esgf_wps.retrieve-1649669476.5569115-20642-7-2f32f488-619d-427f-9762-4183b3eef459.zip to download.zip (553.9K)\n"
     ]
    },
    {
     "name": "stdout",
     "output_type": "stream",
     "text": [
      "ssp1_2_6cesm2_waccm: failed\n",
      "access_cm2\n"
     ]
    },
    {
     "name": "stderr",
     "output_type": "stream",
     "text": [
      "2022-04-11 12:49:41,513 INFO Download rate 1.6M/s \n",
      "2022-04-11 12:49:41,647 INFO Welcome to the CDS\n",
      "2022-04-11 12:49:41,648 INFO Sending request to https://cds.climate.copernicus.eu/api/v2/resources/projections-cmip6\n",
      "2022-04-11 12:49:41,759 INFO Request is completed\n",
      "2022-04-11 12:49:41,761 INFO Downloading https://download-0006-clone.copernicus-climate.eu/cache-compute-0006/cache/data1/adaptor.esgf_wps.retrieve-1649669488.1544113-24648-12-9201af4c-31b1-4deb-863f-4cb27782bdc1.zip to download.zip (450.8K)\n"
     ]
    },
    {
     "name": "stdout",
     "output_type": "stream",
     "text": [
      "ssp1_2_6access_cm2: completed\n",
      "nesm3\n"
     ]
    },
    {
     "name": "stderr",
     "output_type": "stream",
     "text": [
      "2022-04-11 12:49:42,292 INFO Download rate 850.4K/s\n",
      "2022-04-11 12:49:42,419 INFO Welcome to the CDS\n",
      "2022-04-11 12:49:42,420 INFO Sending request to https://cds.climate.copernicus.eu/api/v2/resources/projections-cmip6\n"
     ]
    },
    {
     "name": "stdout",
     "output_type": "stream",
     "text": [
      "ssp1_2_6nesm3: completed\n",
      "ipsl_cm6a_lr\n"
     ]
    },
    {
     "name": "stderr",
     "output_type": "stream",
     "text": [
      "2022-04-11 12:49:42,734 INFO Request is completed\n",
      "2022-04-11 12:49:42,736 INFO Downloading https://download-0004-clone.copernicus-climate.eu/cache-compute-0004/cache/data0/adaptor.esgf_wps.retrieve-1649669497.6381764-25625-7-6fb18164-974c-4ec1-923b-ad64c542d5dd.zip to download.zip (424.6K)\n",
      "2022-04-11 12:49:43,319 INFO Download rate 729.8K/s\n",
      "2022-04-11 12:49:43,457 INFO Welcome to the CDS\n",
      "2022-04-11 12:49:43,459 INFO Sending request to https://cds.climate.copernicus.eu/api/v2/resources/projections-cmip6\n",
      "2022-04-11 12:49:43,533 INFO Request is queued\n"
     ]
    },
    {
     "name": "stdout",
     "output_type": "stream",
     "text": [
      "ssp1_2_6ipsl_cm6a_lr: completed\n",
      "kace_1_0_g\n"
     ]
    },
    {
     "name": "stderr",
     "output_type": "stream",
     "text": [
      "2022-04-11 12:49:44,596 INFO Request is running\n",
      "2022-04-11 12:49:46,161 INFO Request is failed\n",
      "2022-04-11 12:49:46,162 ERROR Message: an internal error occurred processing your request\n",
      "2022-04-11 12:49:46,164 ERROR Reason:  No matching data for request {'experiment': 'ssp126', 'model': 'KACE-1-0-G', 'temporal_resolution': 'mon', 'variable': 'tasmin'}\n",
      "2022-04-11 12:49:46,168 ERROR   Traceback (most recent call last):\n",
      "2022-04-11 12:49:46,170 ERROR     File \"/opt/cdstoolbox/cdscompute/cdscompute/cdshandlers/services/handler.py\", line 59, in handle_request\n",
      "2022-04-11 12:49:46,172 ERROR       result = cached(context.method, proc, context, context.args, context.kwargs)\n",
      "2022-04-11 12:49:46,174 ERROR     File \"/opt/cdstoolbox/cdscompute/cdscompute/caching.py\", line 108, in cached\n",
      "2022-04-11 12:49:46,175 ERROR       result = proc(context, *context.args, **context.kwargs)\n",
      "2022-04-11 12:49:46,182 ERROR     File \"/opt/cdstoolbox/cdscompute/cdscompute/services.py\", line 124, in __call__\n",
      "2022-04-11 12:49:46,190 ERROR       return p(*args, **kwargs)\n",
      "2022-04-11 12:49:46,191 ERROR     File \"/opt/cdstoolbox/cdscompute/cdscompute/services.py\", line 60, in __call__\n",
      "2022-04-11 12:49:46,193 ERROR       return self.proc(context, *args, **kwargs)\n",
      "2022-04-11 12:49:46,194 ERROR     File \"/home/cds/cdsservices/services/esgf_wps/__init__.py\", line 30, in execute\n",
      "2022-04-11 12:49:46,201 ERROR       request_facets, request = facets.search(context, request)\n",
      "2022-04-11 12:49:46,203 ERROR     File \"/home/cds/cdsservices/services/esgf_wps/facets.py\", line 59, in search\n",
      "2022-04-11 12:49:46,205 ERROR       raise ValueError(f'No matching data for request {tmp_request}')\n",
      "2022-04-11 12:49:46,208 ERROR   ValueError: No matching data for request {'experiment': 'ssp126', 'model': 'KACE-1-0-G', 'temporal_resolution': 'mon', 'variable': 'tasmin'}\n",
      "2022-04-11 12:49:46,274 INFO Welcome to the CDS\n",
      "2022-04-11 12:49:46,275 INFO Sending request to https://cds.climate.copernicus.eu/api/v2/resources/projections-cmip6\n",
      "2022-04-11 12:49:46,345 INFO Request is queued\n"
     ]
    },
    {
     "name": "stdout",
     "output_type": "stream",
     "text": [
      "ssp1_2_6kace_1_0_g: failed\n",
      "ec_earth3_veg\n"
     ]
    },
    {
     "name": "stderr",
     "output_type": "stream",
     "text": [
      "2022-04-11 12:49:47,412 INFO Request is running\n",
      "2022-04-11 12:49:48,979 INFO Request is failed\n",
      "2022-04-11 12:49:48,980 ERROR Message: an internal error occurred processing your request\n",
      "2022-04-11 12:49:48,984 ERROR Reason:  No matching data for request {'experiment': 'ssp126', 'model': 'EC-Earth3-Veg', 'temporal_resolution': 'mon', 'variable': 'tasmin'}\n",
      "2022-04-11 12:49:48,986 ERROR   Traceback (most recent call last):\n",
      "2022-04-11 12:49:48,988 ERROR     File \"/opt/cdstoolbox/cdscompute/cdscompute/cdshandlers/services/handler.py\", line 59, in handle_request\n",
      "2022-04-11 12:49:48,989 ERROR       result = cached(context.method, proc, context, context.args, context.kwargs)\n",
      "2022-04-11 12:49:48,994 ERROR     File \"/opt/cdstoolbox/cdscompute/cdscompute/caching.py\", line 108, in cached\n",
      "2022-04-11 12:49:48,999 ERROR       result = proc(context, *context.args, **context.kwargs)\n",
      "2022-04-11 12:49:49,006 ERROR     File \"/opt/cdstoolbox/cdscompute/cdscompute/services.py\", line 124, in __call__\n",
      "2022-04-11 12:49:49,008 ERROR       return p(*args, **kwargs)\n",
      "2022-04-11 12:49:49,010 ERROR     File \"/opt/cdstoolbox/cdscompute/cdscompute/services.py\", line 60, in __call__\n",
      "2022-04-11 12:49:49,016 ERROR       return self.proc(context, *args, **kwargs)\n",
      "2022-04-11 12:49:49,022 ERROR     File \"/home/cds/cdsservices/services/esgf_wps/__init__.py\", line 30, in execute\n",
      "2022-04-11 12:49:49,032 ERROR       request_facets, request = facets.search(context, request)\n",
      "2022-04-11 12:49:49,035 ERROR     File \"/home/cds/cdsservices/services/esgf_wps/facets.py\", line 59, in search\n",
      "2022-04-11 12:49:49,037 ERROR       raise ValueError(f'No matching data for request {tmp_request}')\n",
      "2022-04-11 12:49:49,040 ERROR   ValueError: No matching data for request {'experiment': 'ssp126', 'model': 'EC-Earth3-Veg', 'temporal_resolution': 'mon', 'variable': 'tasmin'}\n",
      "2022-04-11 12:49:49,103 INFO Welcome to the CDS\n",
      "2022-04-11 12:49:49,104 INFO Sending request to https://cds.climate.copernicus.eu/api/v2/resources/projections-cmip6\n",
      "2022-04-11 12:49:49,174 INFO Request is queued\n"
     ]
    },
    {
     "name": "stdout",
     "output_type": "stream",
     "text": [
      "ssp1_2_6ec_earth3_veg: failed\n",
      "taiesm1\n"
     ]
    },
    {
     "name": "stderr",
     "output_type": "stream",
     "text": [
      "2022-04-11 12:49:50,246 INFO Request is failed\n",
      "2022-04-11 12:49:50,247 ERROR Message: an internal error occurred processing your request\n",
      "2022-04-11 12:49:50,251 ERROR Reason:  No matching data for request {'experiment': 'ssp126', 'model': 'TaiESM1', 'temporal_resolution': 'mon', 'variable': 'tasmin'}\n",
      "2022-04-11 12:49:50,253 ERROR   Traceback (most recent call last):\n",
      "2022-04-11 12:49:50,254 ERROR     File \"/opt/cdstoolbox/cdscompute/cdscompute/cdshandlers/services/handler.py\", line 59, in handle_request\n",
      "2022-04-11 12:49:50,256 ERROR       result = cached(context.method, proc, context, context.args, context.kwargs)\n",
      "2022-04-11 12:49:50,257 ERROR     File \"/opt/cdstoolbox/cdscompute/cdscompute/caching.py\", line 108, in cached\n",
      "2022-04-11 12:49:50,258 ERROR       result = proc(context, *context.args, **context.kwargs)\n",
      "2022-04-11 12:49:50,261 ERROR     File \"/opt/cdstoolbox/cdscompute/cdscompute/services.py\", line 124, in __call__\n",
      "2022-04-11 12:49:50,265 ERROR       return p(*args, **kwargs)\n",
      "2022-04-11 12:49:50,276 ERROR     File \"/opt/cdstoolbox/cdscompute/cdscompute/services.py\", line 60, in __call__\n",
      "2022-04-11 12:49:50,281 ERROR       return self.proc(context, *args, **kwargs)\n",
      "2022-04-11 12:49:50,286 ERROR     File \"/home/cds/cdsservices/services/esgf_wps/__init__.py\", line 30, in execute\n",
      "2022-04-11 12:49:50,289 ERROR       request_facets, request = facets.search(context, request)\n",
      "2022-04-11 12:49:50,291 ERROR     File \"/home/cds/cdsservices/services/esgf_wps/facets.py\", line 59, in search\n",
      "2022-04-11 12:49:50,292 ERROR       raise ValueError(f'No matching data for request {tmp_request}')\n",
      "2022-04-11 12:49:50,294 ERROR   ValueError: No matching data for request {'experiment': 'ssp126', 'model': 'TaiESM1', 'temporal_resolution': 'mon', 'variable': 'tasmin'}\n",
      "2022-04-11 12:49:50,363 INFO Welcome to the CDS\n",
      "2022-04-11 12:49:50,364 INFO Sending request to https://cds.climate.copernicus.eu/api/v2/resources/projections-cmip6\n",
      "2022-04-11 12:49:50,456 INFO Request is completed\n",
      "2022-04-11 12:49:50,458 INFO Downloading https://download-0012-clone.copernicus-climate.eu/cache-compute-0012/cache/data5/adaptor.esgf_wps.retrieve-1649669516.4428802-15336-4-7b5b0407-b3bc-4a0f-9df0-45d4bb314010.zip to download.zip (2.4M)\n"
     ]
    },
    {
     "name": "stdout",
     "output_type": "stream",
     "text": [
      "ssp1_2_6taiesm1: failed\n",
      "cnrm_cm6_1_hr\n"
     ]
    },
    {
     "name": "stderr",
     "output_type": "stream",
     "text": [
      "2022-04-11 12:49:50,964 INFO Download rate 4.7M/s   \n",
      "2022-04-11 12:49:51,109 INFO Welcome to the CDS\n",
      "2022-04-11 12:49:51,113 INFO Sending request to https://cds.climate.copernicus.eu/api/v2/resources/projections-cmip6\n",
      "2022-04-11 12:49:51,193 INFO Request is queued\n"
     ]
    },
    {
     "name": "stdout",
     "output_type": "stream",
     "text": [
      "ssp1_2_6cnrm_cm6_1_hr: completed\n",
      "cams_csm1_0\n"
     ]
    },
    {
     "name": "stderr",
     "output_type": "stream",
     "text": [
      "2022-04-11 12:49:52,263 INFO Request is failed\n",
      "2022-04-11 12:49:52,263 ERROR Message: an internal error occurred processing your request\n",
      "2022-04-11 12:49:52,264 ERROR Reason:  No matching data for request {'experiment': 'ssp126', 'model': 'CAMS-CSM1-0', 'temporal_resolution': 'mon', 'variable': 'tasmin'}\n",
      "2022-04-11 12:49:52,265 ERROR   Traceback (most recent call last):\n",
      "2022-04-11 12:49:52,265 ERROR     File \"/opt/cdstoolbox/cdscompute/cdscompute/cdshandlers/services/handler.py\", line 59, in handle_request\n",
      "2022-04-11 12:49:52,266 ERROR       result = cached(context.method, proc, context, context.args, context.kwargs)\n",
      "2022-04-11 12:49:52,268 ERROR     File \"/opt/cdstoolbox/cdscompute/cdscompute/caching.py\", line 108, in cached\n",
      "2022-04-11 12:49:52,269 ERROR       result = proc(context, *context.args, **context.kwargs)\n",
      "2022-04-11 12:49:52,270 ERROR     File \"/opt/cdstoolbox/cdscompute/cdscompute/services.py\", line 124, in __call__\n",
      "2022-04-11 12:49:52,271 ERROR       return p(*args, **kwargs)\n",
      "2022-04-11 12:49:52,272 ERROR     File \"/opt/cdstoolbox/cdscompute/cdscompute/services.py\", line 60, in __call__\n",
      "2022-04-11 12:49:52,273 ERROR       return self.proc(context, *args, **kwargs)\n",
      "2022-04-11 12:49:52,273 ERROR     File \"/home/cds/cdsservices/services/esgf_wps/__init__.py\", line 30, in execute\n",
      "2022-04-11 12:49:52,277 ERROR       request_facets, request = facets.search(context, request)\n",
      "2022-04-11 12:49:52,323 ERROR     File \"/home/cds/cdsservices/services/esgf_wps/facets.py\", line 59, in search\n",
      "2022-04-11 12:49:52,401 ERROR       raise ValueError(f'No matching data for request {tmp_request}')\n",
      "2022-04-11 12:49:52,402 ERROR   ValueError: No matching data for request {'experiment': 'ssp126', 'model': 'CAMS-CSM1-0', 'temporal_resolution': 'mon', 'variable': 'tasmin'}\n"
     ]
    },
    {
     "name": "stdout",
     "output_type": "stream",
     "text": [
      "ssp1_2_6cams_csm1_0: failed\n"
     ]
    },
    {
     "name": "stderr",
     "output_type": "stream",
     "text": [
      "/var/folders/x6/cq3jxj9j3zz2zgk2zvxn46q80000gn/T/ipykernel_1561/2175409282.py:62: FutureWarning: The frame.append method is deprecated and will be removed from pandas in a future version. Use pandas.concat instead.\n",
      "  return df_models_used.append(row_to_df, ignore_index=True)\n"
     ]
    }
   ],
   "source": [
    "main()"
   ]
  }
 ],
 "metadata": {
  "kernelspec": {
   "display_name": "Python 3 (ipykernel)",
   "language": "python",
   "name": "python3"
  },
  "language_info": {
   "codemirror_mode": {
    "name": "ipython",
    "version": 3
   },
   "file_extension": ".py",
   "mimetype": "text/x-python",
   "name": "python",
   "nbconvert_exporter": "python",
   "pygments_lexer": "ipython3",
   "version": "3.8.12"
  }
 },
 "nbformat": 4,
 "nbformat_minor": 5
}
