{
 "cells": [
  {
   "cell_type": "code",
   "execution_count": 1,
   "metadata": {},
   "outputs": [],
   "source": [
    "import pandas as pd"
   ]
  },
  {
   "cell_type": "code",
   "execution_count": 2,
   "metadata": {},
   "outputs": [
    {
     "name": "stderr",
     "output_type": "stream",
     "text": [
      "/var/folders/x6/cq3jxj9j3zz2zgk2zvxn46q80000gn/T/ipykernel_34259/3791409054.py:2: DtypeWarning: Columns (6,7,8,9,10,11,12,13,14,15,16,17,18,19,20,21,22,31,32,33,34,35,36,37,38,39,40,41,42,43,44,45,46,47,48,49,50,51,52,53,54,55,56,57,58,59,60,61,62,63,64,65,66,67,68,69,70,71,72,73,74,75,76,77,78,79,80,81,82,83,84,85,86,87,88,89,90,91,92,93,94,95,96,97,98,99,100,101,102,106,107,108,109,110,111,112,113,114,115,116,117,118,119,120,121,122,123,124,125,126,127,128,129,130,131,132,133,134,135,136,137,138,139,140,141,142,143,144,145,146,147,148,149,150,151,152,153,154,155,156,157,158,159,160,161,162,163,164,165,166,167,168,169,170,171,172,173,174,175,176,177,178,179,180,181,182,183,184,185,186,187,188,189,190,191,192,193,194,195,196,197,198,199,200,201,202,203,204,205,207,258,259,260,261,262,263,264,265,266,267,268,269,270,271,272,273,274,275,276,277,278,279,280,281,282,283,284,285,286,287,288,289,290,291,292,293,294,295,296,297,298,299,300,301,302,303,304,305,306,307,308) have mixed types. Specify dtype option on import or set low_memory=False.\n",
      "  pop_proj_full = pd.read_csv(\"/Users/laurengomezcullen/Documents/Cambridge/Fourth/Project/final/data/projected_population_densities/colombia/anexo-proyecciones-poblacion-Municipal_2027-2035.csv\", skiprows =6 )\n"
     ]
    },
    {
     "name": "stdout",
     "output_type": "stream",
     "text": [
      "Index(['DP', 'DPNOM', 'DPMP', 'MPIO', 'AÑO', 'ÁREA GEOGRÁFICA', 'Hombres_0',\n",
      "       'Hombres_1', 'Hombres_2', 'Hombres_3',\n",
      "       ...\n",
      "       'Total_94', 'Total_95', 'Total_96', 'Total_97', 'Total_98', 'Total_99',\n",
      "       'Total_100 y más', 'Total Hombres', 'Total Mujeres', 'Total'],\n",
      "      dtype='object', length=312)\n"
     ]
    }
   ],
   "source": [
    "#takes a while to load so have in separate cell\n",
    "pop_proj_full = pd.read_csv(\"/Users/laurengomezcullen/Documents/Cambridge/Fourth/Project/final/data/projected_population_densities/colombia/anexo-proyecciones-poblacion-Municipal_2027-2035.csv\", skiprows =6 )\n",
    "print(pop_proj_full.columns)"
   ]
  },
  {
   "cell_type": "code",
   "execution_count": 3,
   "metadata": {},
   "outputs": [
    {
     "name": "stdout",
     "output_type": "stream",
     "text": [
      "[2027 2028 2029 2030 2031 2032 2033 2034 2035]\n"
     ]
    }
   ],
   "source": [
    "#sorting the projected populations\n",
    "pop_proj = pop_proj_full[['DPMP', 'MPIO', 'AÑO', 'ÁREA GEOGRÁFICA', 'Total']].copy()\n",
    "pop_proj = pop_proj[pop_proj[\"ÁREA GEOGRÁFICA\"]=='Total']\n",
    "print(pop_proj[\"AÑO\"].unique())\n",
    "pop_proj = pop_proj[pop_proj[\"AÑO\"]==2035]\n",
    "pop_proj = pop_proj.rename(columns={'DPMP':'MUN_CODE', 'MPIO':'MUN', 'Total':'POP'})\n",
    "pop_proj = pop_proj.drop(columns=['AÑO',\"ÁREA GEOGRÁFICA\" ]).reset_index()\n",
    "pop_proj[\"POP\"] = pop_proj[\"POP\"].str.replace(',', \"\")\n",
    "pop_proj[\"MUN_CODE\"] = pop_proj[\"MUN_CODE\"].astype(str)\n",
    "pop_proj[\"MUN_CODE\"] = pop_proj[\"MUN_CODE\"].str.strip()\n",
    "pop_proj[\"MUN\"] = pop_proj[\"MUN\"].str.upper()\n",
    "# print(pop_proj)\n",
    "\n",
    "#calc the projected densities using current data set of area\n",
    "pop_now = pd.read_csv(\"/Users/laurengomezcullen/Documents/Cambridge/Fourth/Project/final/data/vulnerability_indices/colombian_vulnerability_by_municipality_corrected.csv\").iloc[:,:3]\n",
    "pop_proj['POP_DENS'] = pop_proj[\"POP\"].astype(float)/pop_now[\"MUN_AREA\"]  \n",
    "pop_proj = pop_proj[['MUN_CODE', \"MUN\", \"POP_DENS\"]]\n"
   ]
  },
  {
   "cell_type": "code",
   "execution_count": 4,
   "metadata": {},
   "outputs": [
    {
     "name": "stdout",
     "output_type": "stream",
     "text": [
      "Index(['MUN_CODE', 'MUN', 'SVI', 'POP_DENS', 'SUITABILITY_MEAN',\n",
      "       'SUITABILITY_MEDIAN'],\n",
      "      dtype='object')\n",
      "Index(['MUN_CODE', 'MUN', 'SVI', 'POP_DENS', 'SUITABILITY_MEAN',\n",
      "       'SUITABILITY_MEDIAN'],\n",
      "      dtype='object')\n"
     ]
    }
   ],
   "source": [
    "#append current SVI to the projected population \n",
    "svi = pd.read_csv(\"/Users/laurengomezcullen/Documents/Cambridge/Fourth/Project/final/data/vulnerability_indices/colombian_vulnerability_by_municipality_corrected.csv\")\n",
    "svi[\"MUN_CODE\"] = svi[\"MUN_CODE\"].astype(str)\n",
    "\n",
    "pop_proj_svi = pop_proj.merge(svi,on = 'MUN_CODE', how = 'outer')\n",
    "# print(pop_proj_svi)\n",
    "    \n",
    "#merge with suitability data\n",
    "for i in ['245', '585']:\n",
    "    suitability_mean_median = pd.read_csv(\"/Users/laurengomezcullen/Documents/Cambridge/Fourth/Project/final/data/random_forest_input/colombia/\"+i+\"/model1/suitability_mean_median.csv\").iloc[:,1:]\n",
    "    suitability_mean_median[\"MUN_CODE\"] = suitability_mean_median[\"MUN_CODE\"].astype(str)\n",
    "    pop_proj_svi_suit = pop_proj_svi.merge(suitability_mean_median,on = 'MUN_CODE', how = 'outer')\n",
    "    pop_proj_svi_suit = pop_proj_svi_suit.drop(columns = [\"MUN_x\", \"MUN_AREA\"])\n",
    "    pop_proj_svi_suit = pop_proj_svi_suit[['MUN_CODE', 'MUN_y', 'SVI', 'POP_DENS',\"SUITABILITY_MEAN\", \"SUITABILITY_MEDIAN\"]]\n",
    "    pop_proj_svi_suit = pop_proj_svi_suit.rename(columns = {\"MUN_y\": \"MUN\"})\n",
    "    print(pop_proj_svi_suit.columns)\n",
    "    # pop_proj_svi_suit.to_csv(\"/Users/laurengomezcullen/Documents/Cambridge/Fourth/Project/final/data/random_forest_input/colombia/\"+i+\"/model1/rf_projection_input.csv\")"
   ]
  }
 ],
 "metadata": {
  "interpreter": {
   "hash": "f3f07b11a23724ce191c2ea9bb68c5e94bb28d7157858ebb95056e78b46bd409"
  },
  "kernelspec": {
   "display_name": "Python 3.8.12 ('base')",
   "language": "python",
   "name": "python3"
  },
  "language_info": {
   "codemirror_mode": {
    "name": "ipython",
    "version": 3
   },
   "file_extension": ".py",
   "mimetype": "text/x-python",
   "name": "python",
   "nbconvert_exporter": "python",
   "pygments_lexer": "ipython3",
   "version": "3.8.13"
  },
  "orig_nbformat": 4
 },
 "nbformat": 4,
 "nbformat_minor": 2
}
