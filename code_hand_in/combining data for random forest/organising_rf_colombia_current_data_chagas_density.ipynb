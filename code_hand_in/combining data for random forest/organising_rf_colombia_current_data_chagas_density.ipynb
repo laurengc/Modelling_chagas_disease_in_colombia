{
 "cells": [
  {
   "cell_type": "code",
   "execution_count": 51,
   "metadata": {},
   "outputs": [
    {
     "name": "stdout",
     "output_type": "stream",
     "text": [
      "Collecting jenkspy\n",
      "  Downloading jenkspy-0.2.0.tar.gz (55 kB)\n",
      "\u001b[2K     \u001b[90m━━━━━━━━━━━━━━━━━━━━━━━━━━━━━━━━━━━━━━━━\u001b[0m \u001b[32m55.5/55.5 KB\u001b[0m \u001b[31m1.1 MB/s\u001b[0m eta \u001b[36m0:00:00\u001b[0ma \u001b[36m0:00:01\u001b[0m\n",
      "\u001b[?25h  Preparing metadata (setup.py) ... \u001b[?25ldone\n",
      "\u001b[?25hBuilding wheels for collected packages: jenkspy\n",
      "  Building wheel for jenkspy (setup.py) ... \u001b[?25ldone\n",
      "\u001b[?25h  Created wheel for jenkspy: filename=jenkspy-0.2.0-cp38-cp38-macosx_10_9_x86_64.whl size=40979 sha256=5a6ad4cb1fc6470980191da734379e1b4e3886368ffc1a51ad303b156d778568\n",
      "  Stored in directory: /Users/laurengomezcullen/Library/Caches/pip/wheels/92/c2/4f/4f1d3c2fc01225f2a082ceb80611e2b2fb10cb8fb184d78d91\n",
      "Successfully built jenkspy\n",
      "Installing collected packages: jenkspy\n",
      "Successfully installed jenkspy-0.2.0\n",
      "Note: you may need to restart the kernel to use updated packages.\n"
     ]
    }
   ],
   "source": [
    "# pip install jenkspy"
   ]
  },
  {
   "cell_type": "code",
   "execution_count": 52,
   "metadata": {},
   "outputs": [],
   "source": [
    "import pandas as pd\n",
    "import numpy as np\n",
    "from matplotlib import pyplot as plt\n",
    "import jenkspy\n"
   ]
  },
  {
   "cell_type": "code",
   "execution_count": 2,
   "metadata": {},
   "outputs": [
    {
     "name": "stdout",
     "output_type": "stream",
     "text": [
      "    MUN_CODE                MUN  TOTAL_CASES\n",
      "0     200110          AGUACHICA           27\n",
      "1     500010      VILLAVICENCIO           35\n",
      "2     152990            GARAGOA           11\n",
      "3     540010             CUCUTA           52\n",
      "4     548740  VILLA DEL ROSARIO           19\n",
      "..       ...                ...          ...\n",
      "372     7420              SINCE            2\n",
      "373     4250            MACANAL            1\n",
      "374     5700       PUEBLO BELLO            1\n",
      "375     3440             HACARI            5\n",
      "376     5690     PUERTO CAICEDO            1\n",
      "\n",
      "[377 rows x 3 columns]\n"
     ]
    },
    {
     "name": "stderr",
     "output_type": "stream",
     "text": [
      "/var/folders/x6/cq3jxj9j3zz2zgk2zvxn46q80000gn/T/ipykernel_32639/560623541.py:7: FutureWarning: The default value of regex will change from True to False in a future version. In addition, single character regular expressions will *not* be treated as literal strings when regex=True.\n",
      "  chagas_cases['MUN_CODE'] = chagas_cases['MUN_CODE'].str.replace(\".\",\"\") #to ensure that there is no empty space\n"
     ]
    }
   ],
   "source": [
    "#organising chagas cases data\n",
    "chagas_cases = pd.read_csv(\"/Users/laurengomezcullen/Documents/Cambridge/Fourth/Project/final/data/chagas_cases/colombia_chagas/colombia_total.csv\")\n",
    "chagas_cases = chagas_cases[['MUN_CODE','MUN','TOTAL']]\n",
    "chagas_cases = chagas_cases.rename(columns={'TOTAL':'TOTAL_CASES'})\n",
    "\n",
    "chagas_cases['MUN_CODE'] = chagas_cases['MUN_CODE'].apply(lambda x: \"{:.1f}\".format(x)) #to remove make it a string while keeping the trailing 0\n",
    "chagas_cases['MUN_CODE'] = chagas_cases['MUN_CODE'].str.replace(\".\",\"\") #to ensure that there is no empty space\n",
    "print(chagas_cases)\n",
    "chagas_cases['MUN_CODE'] = chagas_cases['MUN_CODE'].str.strip(' ')\n"
   ]
  },
  {
   "cell_type": "code",
   "execution_count": 3,
   "metadata": {},
   "outputs": [
    {
     "name": "stdout",
     "output_type": "stream",
     "text": [
      "    MUN_CODE           MUN   MUN_AREA       SVI\n",
      "550    25001  AGUA DE DIOS  86.199399 -0.245899\n"
     ]
    }
   ],
   "source": [
    "# organising svi data\n",
    "svi_indices = pd.read_csv(\"/Users/laurengomezcullen/Documents/Cambridge/Fourth/Project/final/data/vulnerability_indices/colombian_vulnerability_by_municipality.csv\")\n",
    "svi_indices = svi_indices[['DIVIPOLA', 'MPIO_CNMBR', 'MPIO_NAREA', 'IVT']]\n",
    "svi_indices = svi_indices.rename(columns={'DIVIPOLA':'MUN_CODE', 'MPIO_CNMBR':'MUN', 'MPIO_NAREA':'MUN_AREA', 'IVT':'SVI'})\n",
    "svi_indices['MUN_CODE'] = svi_indices['MUN_CODE'].astype(str)\n",
    "svi_indices['MUN_CODE'] = svi_indices['MUN_CODE'].str.strip(' ')\n",
    "svi_indices.to_csv(\"/Users/laurengomezcullen/Documents/Cambridge/Fourth/Project/final/data/vulnerability_indices/colombian_vulnerability_by_municipality_corrected.csv\", index = False)\n",
    "print(svi_indices[svi_indices['MUN']=='AGUA DE DIOS'])\n"
   ]
  },
  {
   "cell_type": "code",
   "execution_count": 4,
   "metadata": {},
   "outputs": [
    {
     "name": "stdout",
     "output_type": "stream",
     "text": [
      "           Unnamed: 0      Unnamed: 1 Unnamed: 2       Total\n",
      "0                 NaN             NaN        NaN         NaN\n",
      "1                 NaN           Total      Total  44,164,417\n",
      "2                 NaN           Total      0 a 4   3,037,781\n",
      "3                 NaN           Total      5 a 9   3,335,240\n",
      "4                 NaN           Total    10 a 14   3,610,584\n",
      "...               ...             ...        ...         ...\n",
      "80981  99773_Cumaribo  Rural disperso    65 a 69         440\n",
      "80982  99773_Cumaribo  Rural disperso    70 a 74         269\n",
      "80983  99773_Cumaribo  Rural disperso    75 a 79         198\n",
      "80984  99773_Cumaribo  Rural disperso    80 a 84         129\n",
      "80985  99773_Cumaribo  Rural disperso   85 y más          77\n",
      "\n",
      "[80986 rows x 4 columns]\n"
     ]
    },
    {
     "name": "stderr",
     "output_type": "stream",
     "text": [
      "/var/folders/x6/cq3jxj9j3zz2zgk2zvxn46q80000gn/T/ipykernel_32639/1661749671.py:9: FutureWarning: The default value of regex will change from True to False in a future version.\n",
      "  pop_mun_names = pop['MUN_CODE'].str.replace('\\d+', '')#removes all numbers in the list\n",
      "/var/folders/x6/cq3jxj9j3zz2zgk2zvxn46q80000gn/T/ipykernel_32639/1661749671.py:12: FutureWarning: The default value of regex will change from True to False in a future version.\n",
      "  pop['MUN_CODE'] = pop['MUN_CODE'].str.replace('[A-Za-zñáéíóúüÁÑÉÍÓÚÜ_]', '') #removing names\n"
     ]
    }
   ],
   "source": [
    "#organising population data\n",
    "population = pd.read_csv(\"/Users/laurengomezcullen/Documents/Cambridge/Fourth/Project/final/data/population_densities/PERSONAS_DEMOGRAFICO_Cuadros_CNPV_2018.csv\", skip_blank_lines=True)\n",
    "pop = population.fillna(method = 'ffill') #filling in blanks\n",
    "print(pop)\n",
    "pop = pop.loc[(pop['Unnamed: 2'] == \"Total\") & (pop['Unnamed: 1'] == \"Total\")] # only using totals\n",
    "pop = pop.iloc[1:] #dropping national total\n",
    "pop = pop[['Unnamed: 0', 'Total']] #droppiong useless columns\n",
    "pop = pop.rename(columns = {'Unnamed: 0': 'MUN_CODE', 'Total': 'TOTAL_POP'}) #renaming columns\n",
    "pop_mun_names = pop['MUN_CODE'].str.replace('\\d+', '')#removes all numbers in the list\n",
    "pop_mun_names = pop_mun_names.str.replace('_', '')#removing _\n",
    "pop_mun_names = pop_mun_names.str.upper() #capitalising\n",
    "pop['MUN_CODE'] = pop['MUN_CODE'].str.replace('[A-Za-zñáéíóúüÁÑÉÍÓÚÜ_]', '') #removing names\n",
    "pop['MUN_CODE']= pop['MUN_CODE'].str.lstrip('0')#removes the leading zeros\n",
    "pop['MUN_CODE']= pop['MUN_CODE'].str.lstrip(' ')\n",
    "pop['MUN'] = pop_mun_names #attaching new columns\n",
    "pop = pop[['MUN_CODE', 'MUN', 'TOTAL_POP']].reset_index(drop = True)\n",
    "# print(pop)\n"
   ]
  },
  {
   "cell_type": "code",
   "execution_count": 5,
   "metadata": {},
   "outputs": [
    {
     "name": "stdout",
     "output_type": "stream",
     "text": [
      "     MUN_CODE       MUN_x  TOTAL_POP           MUN_y      MUN_AREA       SVI\n",
      "0        5001    MEDELLÍN  2,372,330        MEDELLÍN    372.035012 -1.451652\n",
      "1        5002   ABEJORRAL     17,599       ABEJORRAL    507.245697 -0.077237\n",
      "2        5004    ABRIAQUÍ      2,159        ABRIAQUÍ    288.111250  0.360621\n",
      "3        5021  ALEJANDRÍA      3,839      ALEJANDRÍA    127.109904 -1.138512\n",
      "4        5030       AMAGÁ     26,821           AMAGÁ     83.147652 -0.317653\n",
      "...       ...         ...        ...             ...           ...       ...\n",
      "1430    94885         NaN        NaN    LA GUADALUPE   1213.008318  0.370638\n",
      "1431    95025         NaN        NaN      EL RETORNO  12362.231849  0.822242\n",
      "1432    99001         NaN        NaN  PUERTO CARREÑO  12241.153242  0.631532\n",
      "1433    99524         NaN        NaN    LA PRIMAVERA  20215.738764  0.423750\n",
      "1434    99624         NaN        NaN   SANTA ROSALÍA   1990.817122  0.066561\n",
      "\n",
      "[1435 rows x 6 columns]\n"
     ]
    }
   ],
   "source": [
    "# reading population and svi to open refine and sorting it\n",
    "\n",
    "df_pop_svi = pop.merge(svi_indices, on = 'MUN_CODE', how = 'outer')\n",
    "print(df_pop_svi)\n",
    "df_pop_svi.to_csv(\"/Users/laurengomezcullen/Documents/Cambridge/Fourth/Project/final/data/random_forest_input/colombia/df_pop_svi_open_refine.csv\", index = False)\n",
    "\n",
    "\n",
    "# pop_places = pop[['MUN_CODE', 'MUN']].sort_values('MUN').reset_index(drop = True)\n",
    "# svi_places = svi_indices[['MUN_CODE', 'MUN']].sort_values('MUN').reset_index(drop = True)\n",
    "# print(len(pop_places))\n",
    "# print(len(svi_places))\n",
    "# df_diff = pd.concat([pop_places,svi_places]).drop_duplicates(keep=False)\n",
    "# print(df_diff)\n",
    "# print(pop_places[pop_places['MUN'] == 'AGUA DE DIOS'])\n",
    "# print(svi_places[svi_places['MUN'] == 'AGUA DE DIOS'])\n",
    "# df_pop_svi['TOTAL_CASES'] = df_pop_svi['TOTAL_CASES'].fillna(0)\n",
    "# df_psc = df_pop_svi.merge(chagas_cases, on = 'MUN_CODE', how = 'outer')\n",
    "# df_psc.to_csv(\"/Users/laurengomezcullen/Documents/Cambridge/Fourth/Project/final/data/random_forest_input/colombia/df_to_open_refine.csv\", index = False)\n",
    "# # df_psc[\"MUN_CODE_x\"] = df_psc[\"MUN_CODE_x\"].fillna(df_psc[\"MUN_CODE\"])\n",
    "# df_psc[\"MUN_CODE_x\"] = df_psc[\"MUN_CODE_x\"].fillna(df_psc[\"MUN_CODE_y\"]).str.rstrip('.0')"
   ]
  },
  {
   "cell_type": "code",
   "execution_count": 6,
   "metadata": {},
   "outputs": [],
   "source": [
    "#opening refine data for population and svi indices\n",
    "df_pop_svi_or = pd.read_csv(\"/Users/laurengomezcullen/Documents/Cambridge/Fourth/Project/final/data/random_forest_input/colombia/df_pop_svi_or.txt\")\n",
    "df_duplicates = df_pop_svi_or[df_pop_svi_or.duplicated(subset = 'MUN_CODE')]\n",
    "\n",
    "#removing the duplicates and adjoining them to the correct one\n",
    "for i in df_duplicates['MUN_CODE']:\n",
    "    df_copies = df_pop_svi_or[df_pop_svi_or['MUN_CODE']==i]\n",
    "    first_row_index = df_copies.index[0]\n",
    "    second_row_index = df_copies.index[1]\n",
    "    df_pop_svi_or.iloc[first_row_index,3:] = df_pop_svi_or.iloc[second_row_index,3:]\n"
   ]
  },
  {
   "cell_type": "code",
   "execution_count": 7,
   "metadata": {},
   "outputs": [],
   "source": [
    "#formatting pop and svi data\n",
    "df_pop_svi_final = df_pop_svi_or.drop_duplicates(subset = \"MUN_CODE\")\n",
    "df_pop_svi_final = df_pop_svi_final.drop(columns = \"MUN_y\")\n",
    "df_pop_svi_final = df_pop_svi_final.rename(columns={\"MUN_x\":\"MUN\"})\n",
    "df_pop_svi_final[\"TOTAL_POP\"] = df_pop_svi_final[\"TOTAL_POP\"].str.replace(\",\",\"\") #need to replace as can't convert to float otherwise\n",
    "df_pop_svi_final[\"POP_DENS\"] = df_pop_svi_final[\"TOTAL_POP\"].astype(float)/df_pop_svi_final[\"MUN_AREA\"]\n",
    "df_pop_svi_final_no_totpop = df_pop_svi_final.drop(columns = [\"TOTAL_POP\", \"MUN_AREA\"])"
   ]
  },
  {
   "cell_type": "code",
   "execution_count": 18,
   "metadata": {},
   "outputs": [
    {
     "name": "stderr",
     "output_type": "stream",
     "text": [
      "/var/folders/x6/cq3jxj9j3zz2zgk2zvxn46q80000gn/T/ipykernel_32639/3953043423.py:37: SettingWithCopyWarning: \n",
      "A value is trying to be set on a copy of a slice from a DataFrame\n",
      "\n",
      "See the caveats in the documentation: https://pandas.pydata.org/pandas-docs/stable/user_guide/indexing.html#returning-a-view-versus-a-copy\n",
      "  df_pop_svi_chagas_2.drop(df_pop_svi_chagas_2.tail(1).index,inplace = True)\n",
      "/var/folders/x6/cq3jxj9j3zz2zgk2zvxn46q80000gn/T/ipykernel_32639/3953043423.py:38: SettingWithCopyWarning: \n",
      "A value is trying to be set on a copy of a slice from a DataFrame.\n",
      "Try using .loc[row_indexer,col_indexer] = value instead\n",
      "\n",
      "See the caveats in the documentation: https://pandas.pydata.org/pandas-docs/stable/user_guide/indexing.html#returning-a-view-versus-a-copy\n",
      "  df_pop_svi_chagas_2[\"TOTAL_CASES\"] = df_pop_svi_chagas_2[\"TOTAL_CASES\"].fillna(0)\n",
      "/var/folders/x6/cq3jxj9j3zz2zgk2zvxn46q80000gn/T/ipykernel_32639/3953043423.py:39: SettingWithCopyWarning: \n",
      "A value is trying to be set on a copy of a slice from a DataFrame.\n",
      "Try using .loc[row_indexer,col_indexer] = value instead\n",
      "\n",
      "See the caveats in the documentation: https://pandas.pydata.org/pandas-docs/stable/user_guide/indexing.html#returning-a-view-versus-a-copy\n",
      "  df_pop_svi_chagas_2[\"TOTAL_CASES\"] = df_pop_svi_chagas_2[\"TOTAL_CASES\"].astype(int)\n"
     ]
    }
   ],
   "source": [
    "#doing same as above but now with chagas cases\n",
    "df_pop_svi_chagas = df_pop_svi_final.merge(chagas_cases, on = 'MUN_CODE', how = 'outer')\n",
    "df_pop_svi_chagas.to_csv(\"/Users/laurengomezcullen/Documents/Cambridge/Fourth/Project/final/data/random_forest_input/colombia/df_pop_svi_chagas_open_refine.csv\", index = False)\n",
    "\n",
    "#analysis showed an error in some of the department codes, so these were changed manually comparing to https://www.datos.gov.co/Mapas-Nacionales/Departamentos-y-municipios-de-Colombia/xdk5-pm3f/data\n",
    "df_pop_svi_chagas_or = pd.read_csv(\"/Users/laurengomezcullen/Documents/Cambridge/Fourth/Project/final/data/random_forest_input/colombia/df_pop_svi_chagas_or.txt\")\n",
    "\n",
    "#analysis showed that some cases were ambiguous so dropped them\n",
    "df_pop_svi_chagas_or = df_pop_svi_chagas_or[~df_pop_svi_chagas_or[\"MUN_y\"].str.contains('DESCONOCIDA|SIN MUNICIPIO|EXTERIOR', na=False)]\n",
    "df_pop_svi_chagas_or=df_pop_svi_chagas_or.reset_index(drop = True)#needed otherwise the for loop fails\n",
    "df_duplicates = df_pop_svi_chagas_or[df_pop_svi_chagas_or.duplicated(subset = 'MUN_CODE')]\n",
    "\n",
    "#removing the duplicates and adjoining them to the correct one\n",
    "for i in df_duplicates['MUN_CODE']:\n",
    "    df_copies = df_pop_svi_chagas_or[df_pop_svi_chagas_or['MUN_CODE']==i]\n",
    "    first_row_index = df_copies.index[0]\n",
    "    second_row_index = df_copies.index[1]\n",
    "    df_pop_svi_chagas_or.iloc[first_row_index,4:] = df_pop_svi_chagas_or.iloc[second_row_index,4:]\n",
    "\n",
    "df_pop_svi_chagas_or = df_pop_svi_chagas_or.drop_duplicates(subset = \"MUN_CODE\")\n",
    "df_pop_svi_chagas_or = df_pop_svi_chagas_or.reset_index(drop = True)\n",
    "#an earlier mistake in processing has causes two mismatches, which are changed below\n",
    "df_pop_svi_chagas_or.iloc[1123, 0] = \"27660\"\n",
    "df_pop_svi_chagas_or.iloc[1124, 0] = \"20570\"\n",
    "\n",
    "df_duplicates = df_pop_svi_chagas_or[df_pop_svi_chagas_or.duplicated(subset = 'MUN_CODE')]\n",
    "df_pop_svi_chagas_or = df_pop_svi_chagas_or.reset_index(drop = True)\n",
    "# print(df_duplicates)\n",
    "for i in df_duplicates['MUN_CODE']:\n",
    "    df_copies = df_pop_svi_chagas_or[df_pop_svi_chagas_or['MUN_CODE']==i]\n",
    "    # print(df_copies)\n",
    "    first_row_index = df_copies.index[0]\n",
    "    second_row_index = df_copies.index[1]\n",
    "    df_pop_svi_chagas_or.iloc[first_row_index,4:] = df_pop_svi_chagas_or.iloc[second_row_index,4:]\n",
    "\n",
    "df_pop_svi_chagas_2 = df_pop_svi_chagas_or.drop_duplicates(subset = \"MUN_CODE\")\n",
    "df_pop_svi_chagas_2.drop(df_pop_svi_chagas_2.tail(1).index,inplace = True)\n",
    "df_pop_svi_chagas_2[\"TOTAL_CASES\"] = df_pop_svi_chagas_2[\"TOTAL_CASES\"].fillna(0)\n",
    "df_pop_svi_chagas_2[\"TOTAL_CASES\"] = df_pop_svi_chagas_2[\"TOTAL_CASES\"].astype(int)\n",
    "df_pop_svi_chagas_2 = df_pop_svi_chagas_2.drop(columns= \"MUN_y\")\n",
    "df_pop_svi_chagas_2 = df_pop_svi_chagas_2.rename(columns = {\"MUN_x\":\"MUN\"})\n",
    "df_pop_svi_chagas_2[\"MUN_CODE\"] = df_pop_svi_chagas_2[\"MUN_CODE\"].str.strip()\n",
    "print(df_pop_svi_chagas_2)\n",
    "\n",
    "df_pop_svi_chagas_2.to_csv(\"/Users/laurengomezcullen/Documents/Cambridge/Fourth/Project/final/data/random_forest_input/colombia/df_pop_svi_chagas_final.csv\", index = False)"
   ]
  },
  {
   "cell_type": "code",
   "execution_count": null,
   "metadata": {},
   "outputs": [],
   "source": [
    "# comment\n",
    "\n",
    "# #reading in data from the governmental website to see where the discrepancy is\n",
    "# df = pd.read_csv(\"/Users/laurengomezcullen/Documents/Cambridge/Fourth/Project/final/data/random_forest_input/colombia/Departamentos_y_municipios_de_Colombia.csv\")\n",
    "# # print(df[\"CÓDIGO DANE DEL MUNICIPIO\"])\n",
    "# df[\"CÓDIGO DANE DEL MUNICIPIO\"] = df[\"CÓDIGO DANE DEL MUNICIPIO\"].apply(lambda x: \"{:.3f}\".format(x)) #kept trailing zeroes when converted to string so that it was in same format as other tables\n",
    "# # print(df[\"CÓDIGO DANE DEL MUNICIPIO\"])\n",
    "# df[\"CÓDIGO DANE DEL MUNICIPIO\"] = df[\"CÓDIGO DANE DEL MUNICIPIO\"].str.replace('.', '')\n",
    "# df[\"CÓDIGO DANE DEL MUNICIPIO\"] = df[\"CÓDIGO DANE DEL MUNICIPIO\"].str.lstrip(\" \")\n",
    "# # print(df[\"CÓDIGO DANE DEL MUNICIPIO\"])\n",
    "# df_diff = pd.concat([df_pop_svi_final['MUN_CODE'],df_pop_svi_chagas_2['MUN_CODE']]).drop_duplicates(keep=False)\n",
    "# # print(df_diff)\n",
    "# print('which has 2766')\n",
    "# print(chagas_cases[chagas_cases['MUN_CODE']== '2057'])\n",
    "# print('done')\n",
    "# df_diff_1 = pd.concat([df_pop_svi_final['MUN_CODE'],df[\"CÓDIGO DANE DEL MUNICIPIO\"]]).drop_duplicates(keep=False)\n",
    "# df_diff_2 = pd.concat([df[\"CÓDIGO DANE DEL MUNICIPIO\"],df_pop_svi_chagas_2['MUN_CODE']]).drop_duplicates(keep=False)\n",
    "# df_differences = pd.concat([df_diff_1,df_diff_2]).drop_duplicates(keep=False)\n",
    "# print(df_differences)\n",
    "# print(df_diff_1)\n",
    "# print(df_diff_2)\n",
    "# print(len(df))\n",
    "# print(len(df_pop_svi_final))\n",
    "# print(len(df_pop_svi_chagas_2))\n",
    "# #print(df_diff_1[df_diff_1 == \"2057\"])\n",
    "# # df_diff_1.to_csv(\"/Users/laurengomezcullen/Documents/Cambridge/Fourth/Project/final/data/random_forest_input/colombia/differences.csv\")\n",
    "# # #so can see that the two dataframes, df_pop_svi_final and df_pop_svi_chagas_2, differ from the colombian government one in the same way, \n",
    "# # #except for the 2057, 2766, 27086 municipalities., which df_pop_svi_final does not contain. "
   ]
  },
  {
   "cell_type": "code",
   "execution_count": 107,
   "metadata": {},
   "outputs": [
    {
     "name": "stdout",
     "output_type": "stream",
     "text": [
      "Empty DataFrame\n",
      "Columns: [MUN_CODE, MUN, SVI, POP_DENS, TOTAL_CASES, SUITABILITY_MEAN, SUITABILITY_MEDIAN]\n",
      "Index: []\n"
     ]
    }
   ],
   "source": [
    "#reading in suitability mean data\n",
    "suitability_mean_median = pd.read_csv(\"/Users/laurengomezcullen/Documents/Cambridge/Fourth/Project/final/data/random_forest_input/colombia/suitability_mean_median.csv\").iloc[:,1:]\n",
    "df_cases_svi_density = pd.read_csv(\"/Users/laurengomezcullen/Documents/Cambridge/Fourth/Project/final/data/random_forest_input/colombia/df_pop_svi_chagas_final.csv\")\n",
    "\n",
    "# need to convert to string to merge\n",
    "suitability_mean_median['MUN_CODE'] = suitability_mean_median['MUN_CODE'].astype(str)\n",
    "df_cases_svi_density['MUN_CODE'] = df_cases_svi_density['MUN_CODE'].astype(str)\n",
    "\n",
    "df_total = df_cases_svi_density.merge(suitability_mean_median, how = 'outer', on = 'MUN_CODE')\n",
    "\n",
    "#checking for errors\n",
    "null = df_total.isnull().any(1)\n",
    "print(df_total[null])\n",
    "\n",
    "#adding cases density column\n",
    "df_total[\"CASES_DENSITY\"] = df_total['TOTAL_CASES']/df_pop_svi_final[\"TOTAL_POP\"].astype(float)\n"
   ]
  },
  {
   "cell_type": "code",
   "execution_count": 108,
   "metadata": {},
   "outputs": [
    {
     "name": "stdout",
     "output_type": "stream",
     "text": [
      "0.0002901915264074289\n",
      "0.014163175743068024\n"
     ]
    },
    {
     "data": {
      "image/png": "[encoded data removed]",
      "text/plain": [
       "<Figure size 432x288 with 1 Axes>"
      ]
     },
     "metadata": {
      "needs_background": "light"
     },
     "output_type": "display_data"
    }
   ],
   "source": [
    "#seeing distribution of data\n",
    "data = df_total[\"CASES_DENSITY\"]\n",
    "plt.figure()\n",
    "plt.scatter(np.arange(len(data)), np.sort(data))\n",
    "print(data[1000])\n",
    "print(max(data))"
   ]
  },
  {
   "cell_type": "code",
   "execution_count": 98,
   "metadata": {},
   "outputs": [
    {
     "name": "stdout",
     "output_type": "stream",
     "text": [
      "      RISK\n",
      "2      LOW\n",
      "3      LOW\n",
      "4      LOW\n",
      "5      LOW\n",
      "6      LOW\n",
      "...    ...\n",
      "1105  HIGH\n",
      "1108  HIGH\n",
      "1109  HIGH\n",
      "1110  HIGH\n",
      "1111  HIGH\n",
      "\n",
      "[1122 rows x 1 columns]\n"
     ]
    },
    {
     "name": "stderr",
     "output_type": "stream",
     "text": [
      "/var/folders/x6/cq3jxj9j3zz2zgk2zvxn46q80000gn/T/ipykernel_4134/2990572476.py:3: SettingWithCopyWarning: \n",
      "A value is trying to be set on a copy of a slice from a DataFrame.\n",
      "Try using .loc[row_indexer,col_indexer] = value instead\n",
      "\n",
      "See the caveats in the documentation: https://pandas.pydata.org/pandas-docs/stable/user_guide/indexing.html#returning-a-view-versus-a-copy\n",
      "  low['RISK'] = 'LOW'\n",
      "/var/folders/x6/cq3jxj9j3zz2zgk2zvxn46q80000gn/T/ipykernel_4134/2990572476.py:6: SettingWithCopyWarning: \n",
      "A value is trying to be set on a copy of a slice from a DataFrame.\n",
      "Try using .loc[row_indexer,col_indexer] = value instead\n",
      "\n",
      "See the caveats in the documentation: https://pandas.pydata.org/pandas-docs/stable/user_guide/indexing.html#returning-a-view-versus-a-copy\n",
      "  medium['RISK'] = 'MEDIUM'\n",
      "/var/folders/x6/cq3jxj9j3zz2zgk2zvxn46q80000gn/T/ipykernel_4134/2990572476.py:9: SettingWithCopyWarning: \n",
      "A value is trying to be set on a copy of a slice from a DataFrame.\n",
      "Try using .loc[row_indexer,col_indexer] = value instead\n",
      "\n",
      "See the caveats in the documentation: https://pandas.pydata.org/pandas-docs/stable/user_guide/indexing.html#returning-a-view-versus-a-copy\n",
      "  high['RISK'] = 'HIGH'\n"
     ]
    }
   ],
   "source": [
    "#adding categorical column\n",
    "\n",
    "#if i want to set my own boundaries\n",
    "# low = df_total[df_total[\"CASES_DENSITY\"]==0]\n",
    "# low['RISK'] = 'LOW'\n",
    "# low = low[['RISK']]\n",
    "# medium = df_total[df_total[\"CASES_DENSITY\"].between(0,0.0002901915264074289, inclusive = 'right')]\n",
    "# medium['RISK'] = 'MEDIUM'\n",
    "# medium = medium[[ 'RISK']]\n",
    "# high = df_total[df_total[\"CASES_DENSITY\"].between(0.0002901915264074289,0.015, inclusive = 'right')]\n",
    "# high['RISK'] = 'HIGH'\n",
    "# high = high[[ 'RISK']]\n",
    "# risk_list = [low, medium, high]\n",
    "# risk = pd.concat(risk_list)\n",
    "# print(risk)\n",
    "# df_final = df_total.join(risk)\n",
    "\n",
    "# #reorder\n",
    "# df_final = df_final[['MUN_CODE', 'MUN', 'SVI', 'POP_DENS',\"SUITABILITY_MEAN\",\"SUITABILITY_MEDIAN\",'TOTAL_CASES', 'CASES_DENSITY', 'RISK']]\n",
    "# df_final.to_csv('/Users/laurengomezcullen/Documents/Cambridge/Fourth/Project/final/data/random_forest_input/colombia/rf_current_input_chagas_density_categories.csv', index = False)\n",
    "# print(len(df_final))\n"
   ]
  },
  {
   "cell_type": "code",
   "execution_count": 134,
   "metadata": {},
   "outputs": [
    {
     "name": "stdout",
     "output_type": "stream",
     "text": [
      "[2.1076325806274845e-06, 0.0014973173064925342, 0.006391052526462952, 0.014163175743068024]\n",
      "LOW       324\n",
      "MEDIUM     40\n",
      "HIGH        7\n",
      "Name: RISK, dtype: int64\n",
      "371\n"
     ]
    },
    {
     "name": "stderr",
     "output_type": "stream",
     "text": [
      "/var/folders/x6/cq3jxj9j3zz2zgk2zvxn46q80000gn/T/ipykernel_4134/2579341113.py:14: SettingWithCopyWarning: \n",
      "A value is trying to be set on a copy of a slice from a DataFrame.\n",
      "Try using .loc[row_indexer,col_indexer] = value instead\n",
      "\n",
      "See the caveats in the documentation: https://pandas.pydata.org/pandas-docs/stable/user_guide/indexing.html#returning-a-view-versus-a-copy\n",
      "  df_total_no_zeros['RISK'] = pd.cut(df_total_no_zeros['CASES_DENSITY'],\n",
      "/var/folders/x6/cq3jxj9j3zz2zgk2zvxn46q80000gn/T/ipykernel_4134/2579341113.py:20: SettingWithCopyWarning: \n",
      "A value is trying to be set on a copy of a slice from a DataFrame\n",
      "\n",
      "See the caveats in the documentation: https://pandas.pydata.org/pandas-docs/stable/user_guide/indexing.html#returning-a-view-versus-a-copy\n",
      "  df_total_no_zeros[\"RISK\"][0] = 'LOW'\n"
     ]
    }
   ],
   "source": [
    "#doing same again but without any 0 data and using natural jenks\n",
    "\n",
    "#seeing distribution of data\n",
    "df_total_no_zeros = df_total[df_total[\"TOTAL_CASES\"] != 0]\n",
    "# data = df_total[\"CASES_DENSITY\"]\n",
    "# plt.figure()\n",
    "# plt.scatter(np.arange(len(data)), np.sort(data))\n",
    "\n",
    "\n",
    "#adding categorical column\n",
    "# print(df_total)\n",
    "breaks = jenkspy.jenks_breaks(df_total_no_zeros['CASES_DENSITY'], nb_class=3)\n",
    "print(breaks)\n",
    "df_total_no_zeros['RISK'] = pd.cut(df_total_no_zeros['CASES_DENSITY'],\n",
    "                        bins=breaks,\n",
    "                        labels=['LOW', 'MEDIUM', 'HIGH'])\n",
    "\n",
    "#one error so manually assigned it\n",
    "# print(df_total_no_zeros[df_total_no_zeros.isna().any(axis=1)].index)\n",
    "df_total_no_zeros[\"RISK\"][0] = 'LOW'\n",
    "# print(df_total_no_zeros[df_total_no_zeros.isna().any(axis=1)])\n",
    "\n",
    "#getting balance of each category\n",
    "print(df_total_no_zeros['RISK'].value_counts())\n",
    "\n",
    "#reorder\n",
    "df_total_no_zeros = df_total_no_zeros[['MUN_CODE', 'MUN', 'SVI', 'POP_DENS',\"SUITABILITY_MEAN\",\"SUITABILITY_MEDIAN\",'TOTAL_CASES', 'CASES_DENSITY', 'RISK']]\n",
    "df_total_no_zeros.to_csv('/Users/laurengomezcullen/Documents/Cambridge/Fourth/Project/final/data/random_forest_input/colombia/rf_current_input_chagas_density_categories_no_zeros.csv', index = False)\n",
    "print(len(df_total_no_zeros))"
   ]
  },
  {
   "cell_type": "code",
   "execution_count": 132,
   "metadata": {},
   "outputs": [
    {
     "name": "stdout",
     "output_type": "stream",
     "text": [
      "NONE      752\n",
      "LOW       323\n",
      "MEDIUM     40\n",
      "HIGH        7\n",
      "Name: RISK, dtype: int64\n"
     ]
    }
   ],
   "source": [
    "#creating list with additional none category for later comparison\n",
    "\n",
    "df_total_jenks = df_total.copy()\n",
    "df_total_jenks['RISK'] = pd.cut(df_total['CASES_DENSITY'],\n",
    "                        bins=breaks,\n",
    "                        labels=['LOW', 'MEDIUM', 'HIGH'])\n",
    "# print(df_total_jenks)\n",
    "df_total_jenks['RISK'] = df_total_jenks['RISK'].astype(str)\n",
    "df_total_jenks.loc[ df_total_jenks[\"RISK\"] == 'nan', 'RISK'] = 'NONE'\n",
    "print(df_total_jenks['RISK'].value_counts())\n",
    "df_total_jenks.to_csv('/Users/laurengomezcullen/Documents/Cambridge/Fourth/Project/final/data/random_forest_input/colombia/rf_current_input_chagas_density_categories.csv', index = False)\n"
   ]
  }
 ],
 "metadata": {
  "interpreter": {
   "hash": "f3f07b11a23724ce191c2ea9bb68c5e94bb28d7157858ebb95056e78b46bd409"
  },
  "kernelspec": {
   "display_name": "Python 3.8.12 ('base')",
   "language": "python",
   "name": "python3"
  },
  "language_info": {
   "codemirror_mode": {
    "name": "ipython",
    "version": 3
   },
   "file_extension": ".py",
   "mimetype": "text/x-python",
   "name": "python",
   "nbconvert_exporter": "python",
   "pygments_lexer": "ipython3",
   "version": "3.8.12"
  },
  "orig_nbformat": 4
 },
 "nbformat": 4,
 "nbformat_minor": 2
}
