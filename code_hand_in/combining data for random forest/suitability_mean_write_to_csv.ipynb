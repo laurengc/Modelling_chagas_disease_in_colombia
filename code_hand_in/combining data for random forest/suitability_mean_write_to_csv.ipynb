{
 "cells": [
  {
   "cell_type": "code",
   "execution_count": 1,
   "metadata": {},
   "outputs": [],
   "source": [
    "\n",
    "#pip install matplotlib"
   ]
  },
  {
   "cell_type": "code",
   "execution_count": 2,
   "metadata": {},
   "outputs": [
    {
     "name": "stderr",
     "output_type": "stream",
     "text": [
      "Application path not initialized\n"
     ]
    }
   ],
   "source": [
    "#imports\n",
    "import pandas as pd\n",
    "from qgis.core import *\n",
    "import qgis.utils\n",
    "import matplotlib.pyplot as plt\n",
    "from qgis.analysis import QgsNativeAlgorithms\n",
    "import processing\n",
    "from processing.core.Processing import Processing"
   ]
  },
  {
   "cell_type": "code",
   "execution_count": 3,
   "metadata": {},
   "outputs": [
    {
     "name": "stderr",
     "output_type": "stream",
     "text": [
      "Logged warning: Duplicate provider native registered\n"
     ]
    },
    {
     "data": {
      "text/plain": [
       "False"
      ]
     },
     "execution_count": 3,
     "metadata": {},
     "output_type": "execute_result"
    }
   ],
   "source": [
    "#setting up to run qgis code\n",
    "# Supply path to qgis install location\n",
    "QgsApplication.setPrefixPath(\"'/Applications/QGIS.app/Contents/MacOS'\", True)\n",
    "\n",
    "# Create a reference to the QgsApplication.  Setting the\n",
    "# second argument to False disables the GUI.\n",
    "qgs = QgsApplication([], False)\n",
    "\n",
    "# Load providers\n",
    "qgs.initQgis()\n",
    "\n",
    "#getting functions\n",
    "from qgis.core import *\n",
    "import qgis.utils\n",
    "import matplotlib.pyplot as plt\n",
    "from qgis.analysis import QgsNativeAlgorithms\n",
    "import processing\n",
    "from processing.core.Processing import Processing\n",
    "Processing.initialize()\n",
    "QgsApplication.processingRegistry().addProvider(QgsNativeAlgorithms())\n"
   ]
  },
  {
   "cell_type": "code",
   "execution_count": 4,
   "metadata": {},
   "outputs": [],
   "source": [
    "def suitability_df_formatting(file,j):\n",
    "    df_suitability = pd.read_csv(file)\n",
    "    df_suitability = df_suitability[['ADM2_ES','ADM2_PCODE', \"_mean\", \"_median\"]]#select columns\n",
    "    df_suitability = df_suitability.rename(columns={'ADM2_PCODE':'MUN_CODE', 'ADM2_ES':'MUN', '_mean':'SUITABILITY_MEAN', '_median':'SUITABILITY_MEDIAN'})\n",
    "    df_suitability['MUN_CODE'] = df_suitability['MUN_CODE'].str.replace('CO', \"\")\n",
    "    df_suitability['MUN_CODE'] = df_suitability['MUN_CODE'].str.lstrip('0')\n",
    "    df_suitability['MUN_CODE'] = df_suitability['MUN_CODE'].str.strip()\n",
    "    if j == \"\":\n",
    "        output_file = file[:-20] + \"suitability_mean_median.csv\"\n",
    "    else:\n",
    "        output_file = file[:-28] + \"/suitability_mean_median.csv\"\n",
    "    print(output_file)\n",
    "    df_suitability.to_csv(output_file, index = False)    "
   ]
  },
  {
   "cell_type": "code",
   "execution_count": 5,
   "metadata": {},
   "outputs": [
    {
     "name": "stderr",
     "output_type": "stream",
     "text": [
      "/var/folders/x6/cq3jxj9j3zz2zgk2zvxn46q80000gn/T/ipykernel_30315/4104580605.py:18: DeprecationWarning: QgsVectorFileWriter.writeAsVectorFormat() is deprecated\n",
      "  QgsVectorFileWriter.writeAsVectorFormat(layer, output_csv,\"utf-8\",driverName = \"CSV\" , layerOptions = ['GEOMETRY=AS_XYZ'])\n",
      "Warning 1: Geometry type Multi Polygon is not compatible with GEOMETRY=AS_XYZ.\n"
     ]
    },
    {
     "name": "stdout",
     "output_type": "stream",
     "text": [
      "/Users/laurengomezcullen/Documents/Cambridge/Fourth/Project/final/data/random_forest_input/colombia/zonal_statistics.csv\n",
      "/Users/laurengomezcullen/Documents/Cambridge/Fourth/Project/final/data/random_forest_input/colombia/suitability_mean_median.csv\n"
     ]
    },
    {
     "name": "stderr",
     "output_type": "stream",
     "text": [
      "/var/folders/x6/cq3jxj9j3zz2zgk2zvxn46q80000gn/T/ipykernel_30315/4104580605.py:18: DeprecationWarning: QgsVectorFileWriter.writeAsVectorFormat() is deprecated\n",
      "  QgsVectorFileWriter.writeAsVectorFormat(layer, output_csv,\"utf-8\",driverName = \"CSV\" , layerOptions = ['GEOMETRY=AS_XYZ'])\n",
      "Warning 1: Geometry type Multi Polygon is not compatible with GEOMETRY=AS_XYZ.\n"
     ]
    },
    {
     "name": "stdout",
     "output_type": "stream",
     "text": [
      "/Users/laurengomezcullen/Documents/Cambridge/Fourth/Project/final/data/random_forest_input/colombia/245/model1/zonal_model1_statistics.csv\n",
      "/Users/laurengomezcullen/Documents/Cambridge/Fourth/Project/final/data/random_forest_input/colombia/245/model1/suitability_mean_median.csv\n"
     ]
    },
    {
     "name": "stderr",
     "output_type": "stream",
     "text": [
      "/var/folders/x6/cq3jxj9j3zz2zgk2zvxn46q80000gn/T/ipykernel_30315/4104580605.py:18: DeprecationWarning: QgsVectorFileWriter.writeAsVectorFormat() is deprecated\n",
      "  QgsVectorFileWriter.writeAsVectorFormat(layer, output_csv,\"utf-8\",driverName = \"CSV\" , layerOptions = ['GEOMETRY=AS_XYZ'])\n",
      "Warning 1: Geometry type Multi Polygon is not compatible with GEOMETRY=AS_XYZ.\n"
     ]
    },
    {
     "name": "stdout",
     "output_type": "stream",
     "text": [
      "/Users/laurengomezcullen/Documents/Cambridge/Fourth/Project/final/data/random_forest_input/colombia/585/model1/zonal_model1_statistics.csv\n",
      "/Users/laurengomezcullen/Documents/Cambridge/Fourth/Project/final/data/random_forest_input/colombia/585/model1/suitability_mean_median.csv\n"
     ]
    }
   ],
   "source": [
    "#calculatie zonal statistics, i.e. the mean, for the suitability\n",
    "for i in ['245','585']:\n",
    "    for j in ['', '_model1/']:\n",
    "        if i == '585' and j == '':\n",
    "            continue #as only need one historical file\n",
    "        else:\n",
    "            input_raster ='/Users/laurengomezcullen/maxent/colombia/results_historical_H/model1/' + i+'/Triatominae'+j[:-1]+'_avg.asc'\n",
    "            output_raster = '/Users/laurengomezcullen/maxent/colombia/results_historical_H/'+ j[1:] +'/zonal'+j[:-1]+'_statistics.shp'\n",
    "            sdm_mean_median= processing.run(\"native:zonalstatisticsfb\", {'INPUT':'/Users/laurengomezcullen/Documents/Cambridge/Fourth/Project/final/data/borders/colombian_municipalities/col_admbnda_adm2_mgn_20200416.shp','INPUT_RASTER':input_raster,'RASTER_BAND':1,'COLUMN_PREFIX':'_','STATISTICS':[2,3],'OUTPUT':output_raster})\n",
    "\n",
    "        \n",
    "        # convert the shapefile with zonal statistics and save it as a csv file\n",
    "        layer = QgsVectorLayer(output_raster, \"sdm\", \"ogr\")\n",
    "        if j == \"\":\n",
    "            output_csv = \"/Users/laurengomezcullen/Documents/Cambridge/Fourth/Project/final/data/random_forest_input/colombia/zonal\"+j[:-1]+\"_statistics\"\n",
    "        else:\n",
    "            output_csv = \"/Users/laurengomezcullen/Documents/Cambridge/Fourth/Project/final/data/random_forest_input/colombia/\"+i+\"/\"+j[1:-1]+\"/zonal\"+j[:-1]+\"_statistics\"\n",
    "        QgsVectorFileWriter.writeAsVectorFormat(layer, output_csv,\"utf-8\",driverName = \"CSV\" , layerOptions = ['GEOMETRY=AS_XYZ'])\n",
    "      \n",
    "        \n",
    "        # convert the csv to a suitability dataframe to use in the random forest\n",
    "        file = output_csv + '.csv'\n",
    "        print(file)\n",
    "        suitability_df_formatting(file,j)"
   ]
  },
  {
   "cell_type": "code",
   "execution_count": 6,
   "metadata": {},
   "outputs": [],
   "source": [
    "\n",
    "# for i in ['245','585']:\n",
    "# file_path = '/Users/laurengomezcullen/Documents/Cambridge/Fourth/Project/final/data/random_forest_input/colombia/245/model1/default_settings_zonal_statistics_testing.shp'\n",
    "# layer = QgsVectorLayer(file_path, \"sdm\", \"ogr\")\n",
    "# QgsVectorFileWriter.writeAsVectorFormat(layer, \"/Users/laurengomezcullen/Documents/Cambridge/Fourth/Project/final/data/random_forest_input/colombia/245/model1/default_settings_zonal_statistics_testing\",\"utf-8\",driverName = \"CSV\" , layerOptions = ['GEOMETRY=AS_XYZ'])"
   ]
  },
  {
   "cell_type": "code",
   "execution_count": 7,
   "metadata": {},
   "outputs": [],
   "source": [
    "# df_suitability = pd.read_csv(\"/Users/laurengomezcullen/Documents/Cambridge/Fourth/Project/final/data/random_forest_input/colombia/245/model1/default_settings_zonal_statistics_testing.csv\")\n",
    "\n",
    "# df_suitability = df_suitability[['ADM2_ES','ADM2_PCODE', \"_mean\"]]\n",
    "# df_suitability = df_suitability.rename(columns={'ADM2_PCODE':'MUN_CODE', 'ADM2_ES':'MUN', '_mean':'SUITABILITY_MEAN'})\n",
    "# df_suitability['MUN_CODE'] = df_suitability['MUN_CODE'].str.replace('CO', \"\")\n",
    "# df_suitability['MUN_CODE'] = df_suitability['MUN_CODE'].str.lstrip('0')\n",
    "# df_suitability['MUN_CODE'] = df_suitability['MUN_CODE'].str.strip()\n",
    "# df_suitability.to_csv(\"/Users/laurengomezcullen/Documents/Cambridge/Fourth/Project/final/data/random_forest_input/colombia/245/model1/suitability_mean.csv\", index = False)"
   ]
  },
  {
   "cell_type": "code",
   "execution_count": 8,
   "metadata": {},
   "outputs": [],
   "source": [
    "\n",
    "# provider and layer registries from memory\n",
    "qgs.exitQgis()"
   ]
  }
 ],
 "metadata": {
  "interpreter": {
   "hash": "d20263bc5407bfd1f081871e252f0bc8e862d723b44eb4732fd3c7f7deaa955d"
  },
  "kernelspec": {
   "display_name": "Python 3.8.13 ('python_Env')",
   "language": "python",
   "name": "python3"
  },
  "language_info": {
   "codemirror_mode": {
    "name": "ipython",
    "version": 3
   },
   "file_extension": ".py",
   "mimetype": "text/x-python",
   "name": "python",
   "nbconvert_exporter": "python",
   "pygments_lexer": "ipython3",
   "version": "3.8.13"
  },
  "orig_nbformat": 4
 },
 "nbformat": 4,
 "nbformat_minor": 2
}
