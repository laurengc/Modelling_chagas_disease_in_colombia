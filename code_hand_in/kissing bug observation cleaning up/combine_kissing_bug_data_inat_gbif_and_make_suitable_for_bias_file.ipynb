{
 "cells": [
  {
   "cell_type": "code",
   "execution_count": 11,
   "metadata": {},
   "outputs": [],
   "source": [
    "import pandas as pd"
   ]
  },
  {
   "cell_type": "code",
   "execution_count": 23,
   "metadata": {},
   "outputs": [
    {
     "name": "stdout",
     "output_type": "stream",
     "text": [
      "          species   longitude   latitude\n",
      "0     Triatominae  -93.357139  16.834646\n",
      "1     Triatominae  -98.887185  23.794867\n",
      "3     Triatominae  -86.890671  21.168520\n",
      "7     Triatominae  -87.073070  20.686124\n",
      "8     Triatominae  -87.907058  21.145064\n",
      "...           ...         ...        ...\n",
      "1038  Triatominae  -98.333788  29.706218\n",
      "1039  Triatominae  -98.338407  28.472555\n",
      "1040  Triatominae  -99.573426  29.810412\n",
      "1041  Triatominae -100.811319  30.554981\n",
      "1043  Triatominae  -98.754486  29.812099\n",
      "\n",
      "[793 rows x 3 columns]\n"
     ]
    }
   ],
   "source": [
    "# #simple code concatanating the datasets\n",
    "\n",
    "for i in [mexico, colombia]:\n",
    "    df_gbif = pd.read_csv('/Users/laurengomezcullen/Documents/Cambridge/Fourth/Project/final/data/possible_kissing_bug_data/gbif_data/'+i+'_observations_with_positions_matching_inaturalist.csv')\n",
    "    df_inat = pd.read_csv('/Users/laurengomezcullen/Documents/Cambridge/Fourth/Project/final/data/possible_kissing_bug_data/inaturalist/inaturalist_observations_'+i+'_matching_gbif.csv')\n",
    "\n",
    "    df_total = pd.concat([df_inat,df_gbif], ignore_index = True)\n",
    "    df_total = df_total[df_total['coordinateUncertaintyInMeters']<4633] #need the same resolution as the spatial data which is 4.633 km. \n",
    "    df_total = df_total.drop(columns = ['id', 'coordinateUncertaintyInMeters', 'scientificName'])\n",
    "    df_total = df_total.rename(columns ={'subFamily':'species'})\n",
    "    cols = ['species', 'longitude', 'latitude']\n",
    "    df_total = df_total[cols]\n",
    "    print(df_total)\n",
    "    df_total.to_csv('/Users/laurengomezcullen/maxent/'+i+'/occ.csv', index = False)\n"
   ]
  }
 ],
 "metadata": {
  "interpreter": {
   "hash": "f3f07b11a23724ce191c2ea9bb68c5e94bb28d7157858ebb95056e78b46bd409"
  },
  "kernelspec": {
   "display_name": "Python 3.8.12 ('base')",
   "language": "python",
   "name": "python3"
  },
  "language_info": {
   "codemirror_mode": {
    "name": "ipython",
    "version": 3
   },
   "file_extension": ".py",
   "mimetype": "text/x-python",
   "name": "python",
   "nbconvert_exporter": "python",
   "pygments_lexer": "ipython3",
   "version": "3.8.13"
  },
  "orig_nbformat": 4
 },
 "nbformat": 4,
 "nbformat_minor": 2
}
