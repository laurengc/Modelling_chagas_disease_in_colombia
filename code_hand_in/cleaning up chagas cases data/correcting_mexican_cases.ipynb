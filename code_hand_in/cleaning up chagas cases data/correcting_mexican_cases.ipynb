{
 "cells": [
  {
   "cell_type": "code",
   "execution_count": 2,
   "metadata": {},
   "outputs": [],
   "source": [
    "import pandas as pd"
   ]
  },
  {
   "cell_type": "code",
   "execution_count": 3,
   "metadata": {},
   "outputs": [
    {
     "name": "stdout",
     "output_type": "stream",
     "text": [
      "             NOM_MUN  CASOS  Municipio Fronterizo   IMM\n",
      "121  Doctor González      0                     0  Bajo\n"
     ]
    }
   ],
   "source": [
    "#ensuring that the nomenclature is the same\n",
    "df = pd.read_csv(\"/Users/laurengomezcullen/Documents/Cambridge/Fourth/Project/final/data/chagas_cases/mexican_border_cases.csv\")\n",
    "df['NOM_MUN'] = df['NOM_MUN'].replace('Dr.', 'Doctor', regex = True)\n",
    "df['NOM_MUN'] = df['NOM_MUN'].replace('Gral.', 'General', regex = True)\n",
    "df['NOM_MUN'] = df['NOM_MUN'].replace('Carmen', 'El Carmen')\n",
    "print(df.loc[df['NOM_MUN'] == 'Doctor González'])\n",
    "df.to_csv(\"/Users/laurengomezcullen/Documents/Cambridge/Fourth/Project/final/data/chagas_cases/mexican_border_cases_corrected.csv\")\n"
   ]
  }
 ],
 "metadata": {
  "interpreter": {
   "hash": "f3f07b11a23724ce191c2ea9bb68c5e94bb28d7157858ebb95056e78b46bd409"
  },
  "kernelspec": {
   "display_name": "Python 3.8.12 ('base')",
   "language": "python",
   "name": "python3"
  },
  "language_info": {
   "codemirror_mode": {
    "name": "ipython",
    "version": 3
   },
   "file_extension": ".py",
   "mimetype": "text/x-python",
   "name": "python",
   "nbconvert_exporter": "python",
   "pygments_lexer": "ipython3",
   "version": "3.8.12"
  },
  "orig_nbformat": 4
 },
 "nbformat": 4,
 "nbformat_minor": 2
}
